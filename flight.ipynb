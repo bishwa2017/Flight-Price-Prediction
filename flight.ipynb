{
 "cells": [
  {
   "cell_type": "markdown",
   "metadata": {},
   "source": [
    "# Importing the Dataset:"
   ]
  },
  {
   "cell_type": "code",
   "execution_count": 1,
   "metadata": {},
   "outputs": [],
   "source": [
    "import pandas as pd\n",
    "import numpy as np"
   ]
  },
  {
   "cell_type": "code",
   "execution_count": 2,
   "metadata": {},
   "outputs": [],
   "source": [
    "df = pd.DataFrame(pd.read_excel(\"Flightdetails.xlsx\"))"
   ]
  },
  {
   "cell_type": "code",
   "execution_count": 3,
   "metadata": {},
   "outputs": [
    {
     "data": {
      "text/html": [
       "<div>\n",
       "<style scoped>\n",
       "    .dataframe tbody tr th:only-of-type {\n",
       "        vertical-align: middle;\n",
       "    }\n",
       "\n",
       "    .dataframe tbody tr th {\n",
       "        vertical-align: top;\n",
       "    }\n",
       "\n",
       "    .dataframe thead th {\n",
       "        text-align: right;\n",
       "    }\n",
       "</style>\n",
       "<table border=\"1\" class=\"dataframe\">\n",
       "  <thead>\n",
       "    <tr style=\"text-align: right;\">\n",
       "      <th></th>\n",
       "      <th>Airline Name</th>\n",
       "      <th>Dept Time</th>\n",
       "      <th>Arr Time</th>\n",
       "      <th>Duration</th>\n",
       "      <th>Source</th>\n",
       "      <th>Destination</th>\n",
       "      <th>Date(jan)</th>\n",
       "      <th>Stop</th>\n",
       "      <th>Price</th>\n",
       "    </tr>\n",
       "  </thead>\n",
       "  <tbody>\n",
       "    <tr>\n",
       "      <th>0</th>\n",
       "      <td>Go First</td>\n",
       "      <td>08:45:00</td>\n",
       "      <td>10:55:00</td>\n",
       "      <td>2h 10m</td>\n",
       "      <td>Delhi</td>\n",
       "      <td>Mumbai</td>\n",
       "      <td>22</td>\n",
       "      <td>0</td>\n",
       "      <td>5954</td>\n",
       "    </tr>\n",
       "    <tr>\n",
       "      <th>1</th>\n",
       "      <td>Go First</td>\n",
       "      <td>22:30:00</td>\n",
       "      <td>00:40:00</td>\n",
       "      <td>2h 10m</td>\n",
       "      <td>Delhi</td>\n",
       "      <td>Mumbai</td>\n",
       "      <td>22</td>\n",
       "      <td>0</td>\n",
       "      <td>5954</td>\n",
       "    </tr>\n",
       "    <tr>\n",
       "      <th>2</th>\n",
       "      <td>Go First</td>\n",
       "      <td>14:20:00</td>\n",
       "      <td>16:35:00</td>\n",
       "      <td>2h 15m</td>\n",
       "      <td>Delhi</td>\n",
       "      <td>Mumbai</td>\n",
       "      <td>22</td>\n",
       "      <td>0</td>\n",
       "      <td>5954</td>\n",
       "    </tr>\n",
       "    <tr>\n",
       "      <th>3</th>\n",
       "      <td>Go First</td>\n",
       "      <td>10:20:00</td>\n",
       "      <td>12:40:00</td>\n",
       "      <td>2h 20m</td>\n",
       "      <td>Delhi</td>\n",
       "      <td>Mumbai</td>\n",
       "      <td>22</td>\n",
       "      <td>0</td>\n",
       "      <td>5954</td>\n",
       "    </tr>\n",
       "    <tr>\n",
       "      <th>4</th>\n",
       "      <td>Go First</td>\n",
       "      <td>08:25:00</td>\n",
       "      <td>14:00:00</td>\n",
       "      <td>5h 35m</td>\n",
       "      <td>Delhi</td>\n",
       "      <td>Mumbai</td>\n",
       "      <td>22</td>\n",
       "      <td>0</td>\n",
       "      <td>5954</td>\n",
       "    </tr>\n",
       "    <tr>\n",
       "      <th>...</th>\n",
       "      <td>...</td>\n",
       "      <td>...</td>\n",
       "      <td>...</td>\n",
       "      <td>...</td>\n",
       "      <td>...</td>\n",
       "      <td>...</td>\n",
       "      <td>...</td>\n",
       "      <td>...</td>\n",
       "      <td>...</td>\n",
       "    </tr>\n",
       "    <tr>\n",
       "      <th>1508</th>\n",
       "      <td>IndiGo</td>\n",
       "      <td>21:40:00</td>\n",
       "      <td>23:50:00</td>\n",
       "      <td>2h 10m</td>\n",
       "      <td>Mumbai</td>\n",
       "      <td>Chennai</td>\n",
       "      <td>29</td>\n",
       "      <td>1</td>\n",
       "      <td>8043</td>\n",
       "    </tr>\n",
       "    <tr>\n",
       "      <th>1509</th>\n",
       "      <td>IndiGo</td>\n",
       "      <td>10:15:00</td>\n",
       "      <td>15:55:00</td>\n",
       "      <td>5h 40m</td>\n",
       "      <td>Mumbai</td>\n",
       "      <td>Chennai</td>\n",
       "      <td>29</td>\n",
       "      <td>1</td>\n",
       "      <td>8043</td>\n",
       "    </tr>\n",
       "    <tr>\n",
       "      <th>1510</th>\n",
       "      <td>IndiGo</td>\n",
       "      <td>16:20:00</td>\n",
       "      <td>22:05:00</td>\n",
       "      <td>5h 45m</td>\n",
       "      <td>Mumbai</td>\n",
       "      <td>Chennai</td>\n",
       "      <td>29</td>\n",
       "      <td>1</td>\n",
       "      <td>8043</td>\n",
       "    </tr>\n",
       "    <tr>\n",
       "      <th>1511</th>\n",
       "      <td>IndiGo</td>\n",
       "      <td>09:30:00</td>\n",
       "      <td>15:55:00</td>\n",
       "      <td>6h 25m</td>\n",
       "      <td>Mumbai</td>\n",
       "      <td>Chennai</td>\n",
       "      <td>29</td>\n",
       "      <td>1</td>\n",
       "      <td>8043</td>\n",
       "    </tr>\n",
       "    <tr>\n",
       "      <th>1512</th>\n",
       "      <td>IndiGo</td>\n",
       "      <td>08:30:00</td>\n",
       "      <td>15:55:00</td>\n",
       "      <td>7h 25m</td>\n",
       "      <td>Mumbai</td>\n",
       "      <td>Chennai</td>\n",
       "      <td>29</td>\n",
       "      <td>1</td>\n",
       "      <td>8043</td>\n",
       "    </tr>\n",
       "  </tbody>\n",
       "</table>\n",
       "<p>1513 rows × 9 columns</p>\n",
       "</div>"
      ],
      "text/plain": [
       "     Airline Name Dept Time  Arr Time Duration  Source Destination  Date(jan)  \\\n",
       "0        Go First  08:45:00  10:55:00   2h 10m   Delhi      Mumbai         22   \n",
       "1        Go First  22:30:00  00:40:00   2h 10m   Delhi      Mumbai         22   \n",
       "2        Go First  14:20:00  16:35:00   2h 15m   Delhi      Mumbai         22   \n",
       "3        Go First  10:20:00  12:40:00   2h 20m   Delhi      Mumbai         22   \n",
       "4        Go First  08:25:00  14:00:00   5h 35m   Delhi      Mumbai         22   \n",
       "...           ...       ...       ...      ...     ...         ...        ...   \n",
       "1508       IndiGo  21:40:00  23:50:00   2h 10m  Mumbai     Chennai         29   \n",
       "1509       IndiGo  10:15:00  15:55:00   5h 40m  Mumbai     Chennai         29   \n",
       "1510       IndiGo  16:20:00  22:05:00  5h 45m   Mumbai     Chennai         29   \n",
       "1511       IndiGo  09:30:00  15:55:00   6h 25m  Mumbai     Chennai         29   \n",
       "1512       IndiGo  08:30:00  15:55:00   7h 25m  Mumbai     Chennai         29   \n",
       "\n",
       "      Stop  Price  \n",
       "0        0   5954  \n",
       "1        0   5954  \n",
       "2        0   5954  \n",
       "3        0   5954  \n",
       "4        0   5954  \n",
       "...    ...    ...  \n",
       "1508     1   8043  \n",
       "1509     1   8043  \n",
       "1510     1   8043  \n",
       "1511     1   8043  \n",
       "1512     1   8043  \n",
       "\n",
       "[1513 rows x 9 columns]"
      ]
     },
     "execution_count": 3,
     "metadata": {},
     "output_type": "execute_result"
    }
   ],
   "source": [
    "df"
   ]
  },
  {
   "cell_type": "markdown",
   "metadata": {},
   "source": [
    "We have total 1513 rows and 9 columns , price columns is the target columns"
   ]
  },
  {
   "cell_type": "markdown",
   "metadata": {},
   "source": [
    "# Checking Null values in the dataframe"
   ]
  },
  {
   "cell_type": "code",
   "execution_count": 4,
   "metadata": {},
   "outputs": [
    {
     "data": {
      "text/plain": [
       "Airline Name    0\n",
       "Dept Time       0\n",
       "Arr Time        0\n",
       "Duration        0\n",
       "Source          0\n",
       "Destination     0\n",
       "Date(jan)       0\n",
       "Stop            0\n",
       "Price           0\n",
       "dtype: int64"
      ]
     },
     "execution_count": 4,
     "metadata": {},
     "output_type": "execute_result"
    }
   ],
   "source": [
    "df.isnull().sum()"
   ]
  },
  {
   "cell_type": "code",
   "execution_count": 5,
   "metadata": {},
   "outputs": [
    {
     "data": {
      "text/plain": [
       "Index(['Airline Name', 'Dept Time', 'Arr Time', 'Duration', 'Source',\n",
       "       'Destination', 'Date(jan)', 'Stop', 'Price'],\n",
       "      dtype='object')"
      ]
     },
     "execution_count": 5,
     "metadata": {},
     "output_type": "execute_result"
    }
   ],
   "source": [
    "df.columns"
   ]
  },
  {
   "cell_type": "markdown",
   "metadata": {},
   "source": [
    "No null value present"
   ]
  },
  {
   "cell_type": "markdown",
   "metadata": {},
   "source": [
    "# Checking the datatypes of the columns\n"
   ]
  },
  {
   "cell_type": "code",
   "execution_count": 6,
   "metadata": {},
   "outputs": [
    {
     "data": {
      "text/plain": [
       "Airline Name    object\n",
       "Dept Time       object\n",
       "Arr Time        object\n",
       "Duration        object\n",
       "Source          object\n",
       "Destination     object\n",
       "Date(jan)        int64\n",
       "Stop             int64\n",
       "Price            int64\n",
       "dtype: object"
      ]
     },
     "execution_count": 6,
     "metadata": {},
     "output_type": "execute_result"
    }
   ],
   "source": [
    "df.dtypes"
   ]
  },
  {
   "cell_type": "markdown",
   "metadata": {},
   "source": [
    "target column price is int data types"
   ]
  },
  {
   "cell_type": "markdown",
   "metadata": {},
   "source": [
    "# Visualization"
   ]
  },
  {
   "cell_type": "code",
   "execution_count": 8,
   "metadata": {},
   "outputs": [],
   "source": [
    "import seaborn as sns"
   ]
  },
  {
   "cell_type": "code",
   "execution_count": 8,
   "metadata": {},
   "outputs": [],
   "source": [
    "df_visualization_nominal=df[['Price','Stop']].copy()"
   ]
  },
  {
   "cell_type": "code",
   "execution_count": 9,
   "metadata": {},
   "outputs": [
    {
     "name": "stdout",
     "output_type": "stream",
     "text": [
      "5102     247\n",
      "7487     192\n",
      "5103     158\n",
      "7425     148\n",
      "7424     140\n",
      "5954     138\n",
      "5942     107\n",
      "8043      98\n",
      "7488      96\n",
      "5943      93\n",
      "5955      36\n",
      "7423      12\n",
      "7484      12\n",
      "7991       9\n",
      "9201       8\n",
      "8148       4\n",
      "11469      3\n",
      "6048       2\n",
      "16236      2\n",
      "5325       1\n",
      "5208       1\n",
      "8096       1\n",
      "12090      1\n",
      "8936       1\n",
      "12847      1\n",
      "10703      1\n",
      "6363       1\n",
      "Name: Price, dtype: int64\n"
     ]
    },
    {
     "data": {
      "image/png": "[encoded data removed]",
      "text/plain": [
       "<Figure size 432x288 with 1 Axes>"
      ]
     },
     "metadata": {
      "needs_background": "light"
     },
     "output_type": "display_data"
    }
   ],
   "source": [
    "ax = sns.countplot(x=\"Price\", data=df_visualization_nominal)\n",
    "print(df_visualization_nominal[\"Price\"].value_counts())"
   ]
  },
  {
   "cell_type": "code",
   "execution_count": 10,
   "metadata": {},
   "outputs": [
    {
     "data": {
      "text/plain": [
       "<seaborn.axisgrid.FacetGrid at 0x238d3793730>"
      ]
     },
     "execution_count": 10,
     "metadata": {},
     "output_type": "execute_result"
    },
    {
     "data": {
      "image/png": "[encoded data removed]",
      "text/plain": [
       "<Figure size 360x360 with 1 Axes>"
      ]
     },
     "metadata": {
      "needs_background": "light"
     },
     "output_type": "display_data"
    }
   ],
   "source": [
    "sns.catplot(x=\"Stop\", y=\"Price\", data=df)"
   ]
  },
  {
   "cell_type": "code",
   "execution_count": 11,
   "metadata": {},
   "outputs": [
    {
     "data": {
      "text/plain": [
       "<AxesSubplot:xlabel='Date(jan)', ylabel='Price'>"
      ]
     },
     "execution_count": 11,
     "metadata": {},
     "output_type": "execute_result"
    },
    {
     "data": {
      "image/png": "[encoded data removed]",
      "text/plain": [
       "<Figure size 432x288 with 1 Axes>"
      ]
     },
     "metadata": {
      "needs_background": "light"
     },
     "output_type": "display_data"
    }
   ],
   "source": [
    "sns.boxplot(x=\"Date(jan)\", y=\"Price\", data=df)"
   ]
  },
  {
   "cell_type": "code",
   "execution_count": 12,
   "metadata": {},
   "outputs": [
    {
     "data": {
      "text/plain": [
       "<seaborn.axisgrid.FacetGrid at 0x238d98d9d90>"
      ]
     },
     "execution_count": 12,
     "metadata": {},
     "output_type": "execute_result"
    },
    {
     "data": {
      "image/png": "[encoded data removed]",
      "text/plain": [
       "<Figure size 360x360 with 1 Axes>"
      ]
     },
     "metadata": {
      "needs_background": "light"
     },
     "output_type": "display_data"
    }
   ],
   "source": [
    "sns.catplot(x=\"Date(jan)\", y=\"Price\", data=df)"
   ]
  },
  {
   "cell_type": "code",
   "execution_count": 14,
   "metadata": {},
   "outputs": [
    {
     "data": {
      "text/plain": [
       "<seaborn.axisgrid.FacetGrid at 0x286a7c641c0>"
      ]
     },
     "execution_count": 14,
     "metadata": {},
     "output_type": "execute_result"
    },
    {
     "data": {
      "image/png": "[encoded data removed]",
      "text/plain": [
       "<Figure size 360x360 with 1 Axes>"
      ]
     },
     "metadata": {
      "needs_background": "light"
     },
     "output_type": "display_data"
    }
   ],
   "source": [
    "sns.catplot(x=\"Duration\", y=\"Price\", data=df)"
   ]
  },
  {
   "cell_type": "code",
   "execution_count": 15,
   "metadata": {},
   "outputs": [
    {
     "data": {
      "text/plain": [
       "<seaborn.axisgrid.FacetGrid at 0x286a7bf57f0>"
      ]
     },
     "execution_count": 15,
     "metadata": {},
     "output_type": "execute_result"
    },
    {
     "data": {
      "image/png": "[encoded data removed]",
      "text/plain": [
       "<Figure size 360x360 with 1 Axes>"
      ]
     },
     "metadata": {
      "needs_background": "light"
     },
     "output_type": "display_data"
    }
   ],
   "source": [
    "sns.catplot(x=\"Dept Time\", y=\"Price\", data=df)"
   ]
  },
  {
   "cell_type": "code",
   "execution_count": 9,
   "metadata": {},
   "outputs": [
    {
     "data": {
      "text/plain": [
       "<AxesSubplot:xlabel='Dept Time', ylabel='Price'>"
      ]
     },
     "execution_count": 9,
     "metadata": {},
     "output_type": "execute_result"
    },
    {
     "data": {
      "image/png": "[encoded data removed]",
      "text/plain": [
       "<Figure size 432x288 with 1 Axes>"
      ]
     },
     "metadata": {
      "needs_background": "light"
     },
     "output_type": "display_data"
    }
   ],
   "source": [
    "sns.boxplot(x=\"Dept Time\", y=\"Price\", data=df)"
   ]
  },
  {
   "cell_type": "code",
   "execution_count": 13,
   "metadata": {},
   "outputs": [
    {
     "data": {
      "text/plain": [
       "<seaborn.axisgrid.FacetGrid at 0x238d97a22b0>"
      ]
     },
     "execution_count": 13,
     "metadata": {},
     "output_type": "execute_result"
    },
    {
     "data": {
      "image/png": "[encoded data removed]",
      "text/plain": [
       "<Figure size 360x360 with 1 Axes>"
      ]
     },
     "metadata": {
      "needs_background": "light"
     },
     "output_type": "display_data"
    }
   ],
   "source": [
    "sns.catplot(x=\"Airline Name\", y=\"Price\", data=df)"
   ]
  },
  {
   "cell_type": "code",
   "execution_count": 17,
   "metadata": {},
   "outputs": [
    {
     "data": {
      "text/plain": [
       "<seaborn.axisgrid.FacetGrid at 0x286a7d39520>"
      ]
     },
     "execution_count": 17,
     "metadata": {},
     "output_type": "execute_result"
    },
    {
     "data": {
      "image/png": "[encoded data removed]",
      "text/plain": [
       "<Figure size 360x360 with 1 Axes>"
      ]
     },
     "metadata": {
      "needs_background": "light"
     },
     "output_type": "display_data"
    }
   ],
   "source": [
    "sns.catplot(x=\"Airline Name\", y=\"Stop\", data=df)"
   ]
  },
  {
   "cell_type": "code",
   "execution_count": 14,
   "metadata": {},
   "outputs": [
    {
     "data": {
      "text/plain": [
       "<seaborn.axisgrid.FacetGrid at 0x238d99a6ac0>"
      ]
     },
     "execution_count": 14,
     "metadata": {},
     "output_type": "execute_result"
    },
    {
     "data": {
      "image/png": "[encoded data removed]",
      "text/plain": [
       "<Figure size 360x360 with 1 Axes>"
      ]
     },
     "metadata": {
      "needs_background": "light"
     },
     "output_type": "display_data"
    }
   ],
   "source": [
    "sns.catplot(x=\"Airline Name\", y=\"Price\", data=df)"
   ]
  },
  {
   "cell_type": "code",
   "execution_count": 16,
   "metadata": {},
   "outputs": [],
   "source": [
    "import sklearn\n",
    "from sklearn.preprocessing import LabelEncoder"
   ]
  },
  {
   "cell_type": "code",
   "execution_count": 22,
   "metadata": {},
   "outputs": [],
   "source": [
    "lencode=LabelEncoder()\n",
    "df['Airline Name']=lencode.fit_transform(df['Airline Name'])\n",
    "df['Source']=lencode.fit_transform(df['Source'])\n",
    "df['Destination']=lencode.fit_transform(df['Destination'])\n",
    "df['Duration']=lencode.fit_transform(df['Duration'])\n",
    "df['Dept Time']=lencode.fit_transform(df['Dept Time'])\n"
   ]
  },
  {
   "cell_type": "code",
   "execution_count": 23,
   "metadata": {},
   "outputs": [
    {
     "data": {
      "text/plain": [
       "Airline Name     int64\n",
       "Dept Time        int64\n",
       "Arr Time        object\n",
       "Duration         int64\n",
       "Source           int64\n",
       "Destination      int64\n",
       "Date(jan)        int64\n",
       "Stop             int64\n",
       "Price            int64\n",
       "dtype: object"
      ]
     },
     "execution_count": 23,
     "metadata": {},
     "output_type": "execute_result"
    }
   ],
   "source": [
    "df.dtypes"
   ]
  },
  {
   "cell_type": "code",
   "execution_count": 24,
   "metadata": {},
   "outputs": [
    {
     "data": {
      "text/html": [
       "<div>\n",
       "<style scoped>\n",
       "    .dataframe tbody tr th:only-of-type {\n",
       "        vertical-align: middle;\n",
       "    }\n",
       "\n",
       "    .dataframe tbody tr th {\n",
       "        vertical-align: top;\n",
       "    }\n",
       "\n",
       "    .dataframe thead th {\n",
       "        text-align: right;\n",
       "    }\n",
       "</style>\n",
       "<table border=\"1\" class=\"dataframe\">\n",
       "  <thead>\n",
       "    <tr style=\"text-align: right;\">\n",
       "      <th></th>\n",
       "      <th>Airline Name</th>\n",
       "      <th>Dept Time</th>\n",
       "      <th>Duration</th>\n",
       "      <th>Source</th>\n",
       "      <th>Destination</th>\n",
       "      <th>Date(jan)</th>\n",
       "      <th>Stop</th>\n",
       "      <th>Price</th>\n",
       "    </tr>\n",
       "  </thead>\n",
       "  <tbody>\n",
       "    <tr>\n",
       "      <th>Airline Name</th>\n",
       "      <td>1.000000</td>\n",
       "      <td>-0.011367</td>\n",
       "      <td>0.052523</td>\n",
       "      <td>0.171337</td>\n",
       "      <td>-0.045093</td>\n",
       "      <td>0.069391</td>\n",
       "      <td>0.026446</td>\n",
       "      <td>-0.053020</td>\n",
       "    </tr>\n",
       "    <tr>\n",
       "      <th>Dept Time</th>\n",
       "      <td>-0.011367</td>\n",
       "      <td>1.000000</td>\n",
       "      <td>-0.145498</td>\n",
       "      <td>-0.009163</td>\n",
       "      <td>-0.003202</td>\n",
       "      <td>0.002717</td>\n",
       "      <td>-0.005500</td>\n",
       "      <td>-0.009282</td>\n",
       "    </tr>\n",
       "    <tr>\n",
       "      <th>Duration</th>\n",
       "      <td>0.052523</td>\n",
       "      <td>-0.145498</td>\n",
       "      <td>1.000000</td>\n",
       "      <td>0.039076</td>\n",
       "      <td>0.012359</td>\n",
       "      <td>-0.038429</td>\n",
       "      <td>0.072220</td>\n",
       "      <td>-0.006001</td>\n",
       "    </tr>\n",
       "    <tr>\n",
       "      <th>Source</th>\n",
       "      <td>0.171337</td>\n",
       "      <td>-0.009163</td>\n",
       "      <td>0.039076</td>\n",
       "      <td>1.000000</td>\n",
       "      <td>-0.168828</td>\n",
       "      <td>0.003095</td>\n",
       "      <td>0.092583</td>\n",
       "      <td>-0.450026</td>\n",
       "    </tr>\n",
       "    <tr>\n",
       "      <th>Destination</th>\n",
       "      <td>-0.045093</td>\n",
       "      <td>-0.003202</td>\n",
       "      <td>0.012359</td>\n",
       "      <td>-0.168828</td>\n",
       "      <td>1.000000</td>\n",
       "      <td>-0.206984</td>\n",
       "      <td>0.138301</td>\n",
       "      <td>-0.152382</td>\n",
       "    </tr>\n",
       "    <tr>\n",
       "      <th>Date(jan)</th>\n",
       "      <td>0.069391</td>\n",
       "      <td>0.002717</td>\n",
       "      <td>-0.038429</td>\n",
       "      <td>0.003095</td>\n",
       "      <td>-0.206984</td>\n",
       "      <td>1.000000</td>\n",
       "      <td>0.008531</td>\n",
       "      <td>0.211982</td>\n",
       "    </tr>\n",
       "    <tr>\n",
       "      <th>Stop</th>\n",
       "      <td>0.026446</td>\n",
       "      <td>-0.005500</td>\n",
       "      <td>0.072220</td>\n",
       "      <td>0.092583</td>\n",
       "      <td>0.138301</td>\n",
       "      <td>0.008531</td>\n",
       "      <td>1.000000</td>\n",
       "      <td>0.111206</td>\n",
       "    </tr>\n",
       "    <tr>\n",
       "      <th>Price</th>\n",
       "      <td>-0.053020</td>\n",
       "      <td>-0.009282</td>\n",
       "      <td>-0.006001</td>\n",
       "      <td>-0.450026</td>\n",
       "      <td>-0.152382</td>\n",
       "      <td>0.211982</td>\n",
       "      <td>0.111206</td>\n",
       "      <td>1.000000</td>\n",
       "    </tr>\n",
       "  </tbody>\n",
       "</table>\n",
       "</div>"
      ],
      "text/plain": [
       "              Airline Name  Dept Time  Duration    Source  Destination  \\\n",
       "Airline Name      1.000000  -0.011367  0.052523  0.171337    -0.045093   \n",
       "Dept Time        -0.011367   1.000000 -0.145498 -0.009163    -0.003202   \n",
       "Duration          0.052523  -0.145498  1.000000  0.039076     0.012359   \n",
       "Source            0.171337  -0.009163  0.039076  1.000000    -0.168828   \n",
       "Destination      -0.045093  -0.003202  0.012359 -0.168828     1.000000   \n",
       "Date(jan)         0.069391   0.002717 -0.038429  0.003095    -0.206984   \n",
       "Stop              0.026446  -0.005500  0.072220  0.092583     0.138301   \n",
       "Price            -0.053020  -0.009282 -0.006001 -0.450026    -0.152382   \n",
       "\n",
       "              Date(jan)      Stop     Price  \n",
       "Airline Name   0.069391  0.026446 -0.053020  \n",
       "Dept Time      0.002717 -0.005500 -0.009282  \n",
       "Duration      -0.038429  0.072220 -0.006001  \n",
       "Source         0.003095  0.092583 -0.450026  \n",
       "Destination   -0.206984  0.138301 -0.152382  \n",
       "Date(jan)      1.000000  0.008531  0.211982  \n",
       "Stop           0.008531  1.000000  0.111206  \n",
       "Price          0.211982  0.111206  1.000000  "
      ]
     },
     "execution_count": 24,
     "metadata": {},
     "output_type": "execute_result"
    }
   ],
   "source": [
    "df.corr()"
   ]
  },
  {
   "cell_type": "code",
   "execution_count": 25,
   "metadata": {},
   "outputs": [],
   "source": [
    "import matplotlib.pyplot as plt"
   ]
  },
  {
   "cell_type": "markdown",
   "metadata": {},
   "source": [
    "# Heatmap"
   ]
  },
  {
   "cell_type": "code",
   "execution_count": 26,
   "metadata": {},
   "outputs": [
    {
     "data": {
      "text/plain": [
       "<AxesSubplot:>"
      ]
     },
     "execution_count": 26,
     "metadata": {},
     "output_type": "execute_result"
    },
    {
     "data": {
      "image/png": "[encoded data removed]",
      "text/plain": [
       "<Figure size 1584x504 with 2 Axes>"
      ]
     },
     "metadata": {
      "needs_background": "light"
     },
     "output_type": "display_data"
    }
   ],
   "source": [
    "plt.figure(figsize=(22,7))\n",
    "sns.heatmap(df.describe(),annot=True,linewidths=0.1,linecolor=\"black\",fmt=\"0.2f\")"
   ]
  },
  {
   "cell_type": "code",
   "execution_count": 27,
   "metadata": {},
   "outputs": [
    {
     "data": {
      "text/plain": [
       "<AxesSubplot:>"
      ]
     },
     "execution_count": 27,
     "metadata": {},
     "output_type": "execute_result"
    },
    {
     "data": {
      "image/png": "[encoded data removed]",
      "text/plain": [
       "<Figure size 1584x504 with 2 Axes>"
      ]
     },
     "metadata": {
      "needs_background": "light"
     },
     "output_type": "display_data"
    }
   ],
   "source": [
    "plt.figure(figsize=(22,7))\n",
    "sns.heatmap(df.corr(),annot=True,linewidths=0.1,linecolor=\"black\",fmt=\"0.2f\")"
   ]
  },
  {
   "cell_type": "code",
   "execution_count": 28,
   "metadata": {},
   "outputs": [
    {
     "data": {
      "text/plain": [
       "<AxesSubplot:>"
      ]
     },
     "execution_count": 28,
     "metadata": {},
     "output_type": "execute_result"
    },
    {
     "data": {
      "image/png": "[encoded data removed]",
      "text/plain": [
       "<Figure size 432x288 with 2 Axes>"
      ]
     },
     "metadata": {
      "needs_background": "light"
     },
     "output_type": "display_data"
    }
   ],
   "source": [
    "sns.heatmap(df.corr(),cmap='Blues',annot=True)"
   ]
  },
  {
   "cell_type": "code",
   "execution_count": 29,
   "metadata": {},
   "outputs": [],
   "source": [
    "from sklearn import preprocessing\n",
    "\n",
    "def convert(data):\n",
    "    number = preprocessing.LabelEncoder()\n",
    "    data['Arr Time'] = number.fit_transform(data['Arr Time'])\n",
    "    data=data.fillna(-999) # fill holes with default value\n",
    "    return data"
   ]
  },
  {
   "cell_type": "code",
   "execution_count": 32,
   "metadata": {},
   "outputs": [
    {
     "name": "stderr",
     "output_type": "stream",
     "text": [
      "C:\\Users\\bisue\\anaconda2\\lib\\site-packages\\seaborn\\_decorators.py:36: FutureWarning: Pass the following variable as a keyword arg: x. From version 0.12, the only valid positional argument will be `data`, and passing other arguments without an explicit keyword will result in an error or misinterpretation.\n",
      "  warnings.warn(\n",
      "C:\\Users\\bisue\\anaconda2\\lib\\site-packages\\seaborn\\_decorators.py:36: FutureWarning: Pass the following variable as a keyword arg: x. From version 0.12, the only valid positional argument will be `data`, and passing other arguments without an explicit keyword will result in an error or misinterpretation.\n",
      "  warnings.warn(\n",
      "C:\\Users\\bisue\\anaconda2\\lib\\site-packages\\seaborn\\_decorators.py:36: FutureWarning: Pass the following variable as a keyword arg: x. From version 0.12, the only valid positional argument will be `data`, and passing other arguments without an explicit keyword will result in an error or misinterpretation.\n",
      "  warnings.warn(\n",
      "C:\\Users\\bisue\\anaconda2\\lib\\site-packages\\seaborn\\_decorators.py:36: FutureWarning: Pass the following variable as a keyword arg: x. From version 0.12, the only valid positional argument will be `data`, and passing other arguments without an explicit keyword will result in an error or misinterpretation.\n",
      "  warnings.warn(\n",
      "C:\\Users\\bisue\\anaconda2\\lib\\site-packages\\seaborn\\_decorators.py:36: FutureWarning: Pass the following variable as a keyword arg: x. From version 0.12, the only valid positional argument will be `data`, and passing other arguments without an explicit keyword will result in an error or misinterpretation.\n",
      "  warnings.warn(\n",
      "C:\\Users\\bisue\\anaconda2\\lib\\site-packages\\seaborn\\_decorators.py:36: FutureWarning: Pass the following variable as a keyword arg: x. From version 0.12, the only valid positional argument will be `data`, and passing other arguments without an explicit keyword will result in an error or misinterpretation.\n",
      "  warnings.warn(\n",
      "C:\\Users\\bisue\\anaconda2\\lib\\site-packages\\seaborn\\_decorators.py:36: FutureWarning: Pass the following variable as a keyword arg: x. From version 0.12, the only valid positional argument will be `data`, and passing other arguments without an explicit keyword will result in an error or misinterpretation.\n",
      "  warnings.warn(\n",
      "C:\\Users\\bisue\\anaconda2\\lib\\site-packages\\seaborn\\_decorators.py:36: FutureWarning: Pass the following variable as a keyword arg: x. From version 0.12, the only valid positional argument will be `data`, and passing other arguments without an explicit keyword will result in an error or misinterpretation.\n",
      "  warnings.warn(\n"
     ]
    },
    {
     "data": {
      "image/png": "[encoded data removed]",
      "text/plain": [
       "<Figure size 432x288 with 1 Axes>"
      ]
     },
     "metadata": {
      "needs_background": "light"
     },
     "output_type": "display_data"
    }
   ],
   "source": [
    "for i in df.columns:\n",
    "    sns.boxplot(df[i])"
   ]
  },
  {
   "cell_type": "code",
   "execution_count": 33,
   "metadata": {},
   "outputs": [
    {
     "name": "stderr",
     "output_type": "stream",
     "text": [
      "C:\\Users\\bisue\\anaconda2\\lib\\site-packages\\seaborn\\_decorators.py:36: FutureWarning: Pass the following variable as a keyword arg: x. From version 0.12, the only valid positional argument will be `data`, and passing other arguments without an explicit keyword will result in an error or misinterpretation.\n",
      "  warnings.warn(\n",
      "C:\\Users\\bisue\\anaconda2\\lib\\site-packages\\seaborn\\_decorators.py:36: FutureWarning: Pass the following variable as a keyword arg: x. From version 0.12, the only valid positional argument will be `data`, and passing other arguments without an explicit keyword will result in an error or misinterpretation.\n",
      "  warnings.warn(\n",
      "C:\\Users\\bisue\\anaconda2\\lib\\site-packages\\seaborn\\_decorators.py:36: FutureWarning: Pass the following variable as a keyword arg: x. From version 0.12, the only valid positional argument will be `data`, and passing other arguments without an explicit keyword will result in an error or misinterpretation.\n",
      "  warnings.warn(\n",
      "C:\\Users\\bisue\\anaconda2\\lib\\site-packages\\seaborn\\_decorators.py:36: FutureWarning: Pass the following variable as a keyword arg: x. From version 0.12, the only valid positional argument will be `data`, and passing other arguments without an explicit keyword will result in an error or misinterpretation.\n",
      "  warnings.warn(\n",
      "C:\\Users\\bisue\\anaconda2\\lib\\site-packages\\seaborn\\_decorators.py:36: FutureWarning: Pass the following variable as a keyword arg: x. From version 0.12, the only valid positional argument will be `data`, and passing other arguments without an explicit keyword will result in an error or misinterpretation.\n",
      "  warnings.warn(\n",
      "C:\\Users\\bisue\\anaconda2\\lib\\site-packages\\seaborn\\_decorators.py:36: FutureWarning: Pass the following variable as a keyword arg: x. From version 0.12, the only valid positional argument will be `data`, and passing other arguments without an explicit keyword will result in an error or misinterpretation.\n",
      "  warnings.warn(\n",
      "C:\\Users\\bisue\\anaconda2\\lib\\site-packages\\seaborn\\_decorators.py:36: FutureWarning: Pass the following variable as a keyword arg: x. From version 0.12, the only valid positional argument will be `data`, and passing other arguments without an explicit keyword will result in an error or misinterpretation.\n",
      "  warnings.warn(\n",
      "C:\\Users\\bisue\\anaconda2\\lib\\site-packages\\seaborn\\_decorators.py:36: FutureWarning: Pass the following variable as a keyword arg: x. From version 0.12, the only valid positional argument will be `data`, and passing other arguments without an explicit keyword will result in an error or misinterpretation.\n",
      "  warnings.warn(\n"
     ]
    },
    {
     "data": {
      "image/png": "[encoded data removed]",
      "text/plain": [
       "<Figure size 432x288 with 1 Axes>"
      ]
     },
     "metadata": {
      "needs_background": "light"
     },
     "output_type": "display_data"
    }
   ],
   "source": [
    "for i in df.columns:\n",
    "    sns.countplot(df[i])"
   ]
  },
  {
   "cell_type": "code",
   "execution_count": 34,
   "metadata": {},
   "outputs": [
    {
     "data": {
      "image/png": "[encoded data removed]",
      "text/plain": [
       "<Figure size 360x360 with 1 Axes>"
      ]
     },
     "metadata": {
      "needs_background": "light"
     },
     "output_type": "display_data"
    },
    {
     "data": {
      "image/png": "[encoded data removed]",
      "text/plain": [
       "<Figure size 360x360 with 1 Axes>"
      ]
     },
     "metadata": {
      "needs_background": "light"
     },
     "output_type": "display_data"
    },
    {
     "data": {
      "image/png": "[encoded data removed]",
      "text/plain": [
       "<Figure size 360x360 with 1 Axes>"
      ]
     },
     "metadata": {
      "needs_background": "light"
     },
     "output_type": "display_data"
    },
    {
     "data": {
      "image/png": "[encoded data removed]",
      "text/plain": [
       "<Figure size 360x360 with 1 Axes>"
      ]
     },
     "metadata": {
      "needs_background": "light"
     },
     "output_type": "display_data"
    },
    {
     "data": {
      "image/png": "[encoded data removed]",
      "text/plain": [
       "<Figure size 360x360 with 1 Axes>"
      ]
     },
     "metadata": {
      "needs_background": "light"
     },
     "output_type": "display_data"
    },
    {
     "data": {
      "image/png": "[encoded data removed]",
      "text/plain": [
       "<Figure size 360x360 with 1 Axes>"
      ]
     },
     "metadata": {
      "needs_background": "light"
     },
     "output_type": "display_data"
    },
    {
     "data": {
      "image/png": "[encoded data removed]",
      "text/plain": [
       "<Figure size 360x360 with 1 Axes>"
      ]
     },
     "metadata": {
      "needs_background": "light"
     },
     "output_type": "display_data"
    },
    {
     "data": {
      "image/png": "[encoded data removed]",
      "text/plain": [
       "<Figure size 360x360 with 1 Axes>"
      ]
     },
     "metadata": {
      "needs_background": "light"
     },
     "output_type": "display_data"
    }
   ],
   "source": [
    "for i in df.columns:\n",
    "    sns.displot(df[i])"
   ]
  },
  {
   "cell_type": "code",
   "execution_count": 78,
   "metadata": {},
   "outputs": [
    {
     "data": {
      "text/plain": [
       "<seaborn.axisgrid.FacetGrid at 0x238da2c55e0>"
      ]
     },
     "execution_count": 78,
     "metadata": {},
     "output_type": "execute_result"
    },
    {
     "data": {
      "image/png": "[encoded data removed]",
      "text/plain": [
       "<Figure size 360x360 with 1 Axes>"
      ]
     },
     "metadata": {
      "needs_background": "light"
     },
     "output_type": "display_data"
    }
   ],
   "source": [
    "sns.catplot(x=\"Dept Time\", y=\"Price\", data=df)"
   ]
  },
  {
   "cell_type": "code",
   "execution_count": 79,
   "metadata": {},
   "outputs": [
    {
     "data": {
      "text/plain": [
       "<AxesSubplot:xlabel='Dept Time', ylabel='Price'>"
      ]
     },
     "execution_count": 79,
     "metadata": {},
     "output_type": "execute_result"
    },
    {
     "data": {
      "image/png": "[encoded data removed]",
      "text/plain": [
       "<Figure size 432x288 with 1 Axes>"
      ]
     },
     "metadata": {
      "needs_background": "light"
     },
     "output_type": "display_data"
    }
   ],
   "source": [
    "sns.regplot(x=\"Dept Time\", y=\"Price\", data=df)"
   ]
  },
  {
   "cell_type": "code",
   "execution_count": 80,
   "metadata": {},
   "outputs": [
    {
     "data": {
      "text/plain": [
       "<AxesSubplot:xlabel='Date(jan)', ylabel='Price'>"
      ]
     },
     "execution_count": 80,
     "metadata": {},
     "output_type": "execute_result"
    },
    {
     "data": {
      "image/png": "[encoded data removed]",
      "text/plain": [
       "<Figure size 432x288 with 1 Axes>"
      ]
     },
     "metadata": {
      "needs_background": "light"
     },
     "output_type": "display_data"
    }
   ],
   "source": [
    "sns.regplot(x=\"Date(jan)\", y=\"Price\", data=df)"
   ]
  },
  {
   "cell_type": "code",
   "execution_count": 81,
   "metadata": {},
   "outputs": [
    {
     "data": {
      "text/plain": [
       "<AxesSubplot:xlabel='Airline Name', ylabel='Price'>"
      ]
     },
     "execution_count": 81,
     "metadata": {},
     "output_type": "execute_result"
    },
    {
     "data": {
      "image/png": "[encoded data removed]",
      "text/plain": [
       "<Figure size 432x288 with 1 Axes>"
      ]
     },
     "metadata": {
      "needs_background": "light"
     },
     "output_type": "display_data"
    }
   ],
   "source": [
    "sns.regplot(x=\"Airline Name\", y=\"Price\", data=df)"
   ]
  },
  {
   "cell_type": "code",
   "execution_count": 31,
   "metadata": {},
   "outputs": [
    {
     "data": {
      "text/plain": [
       "Airline Name    int64\n",
       "Dept Time       int64\n",
       "Duration        int64\n",
       "Source          int64\n",
       "Destination     int64\n",
       "Date(jan)       int64\n",
       "Stop            int64\n",
       "Price           int64\n",
       "dtype: object"
      ]
     },
     "execution_count": 31,
     "metadata": {},
     "output_type": "execute_result"
    }
   ],
   "source": [
    "df.dtypes"
   ]
  },
  {
   "cell_type": "code",
   "execution_count": 30,
   "metadata": {},
   "outputs": [],
   "source": [
    "df=df.drop(\"Arr Time\",axis=1)"
   ]
  },
  {
   "cell_type": "markdown",
   "metadata": {},
   "source": [
    "# Outlier Check"
   ]
  },
  {
   "cell_type": "code",
   "execution_count": 35,
   "metadata": {},
   "outputs": [
    {
     "data": {
      "text/plain": [
       "(1513, 8)"
      ]
     },
     "execution_count": 35,
     "metadata": {},
     "output_type": "execute_result"
    }
   ],
   "source": [
    "df.shape"
   ]
  },
  {
   "cell_type": "code",
   "execution_count": 36,
   "metadata": {},
   "outputs": [
    {
     "data": {
      "text/plain": [
       "(array([  94,   95,  121,  122,  123,  231,  232,  233,  234,  235,  340,\n",
       "         375,  471,  472,  666, 1075, 1076, 1077, 1078, 1079, 1080, 1081,\n",
       "        1082, 1127, 1236, 1237, 1240, 1382, 1383, 1410, 1411, 1440, 1467],\n",
       "       dtype=int64),\n",
       " array([6, 6, 6, 6, 6, 6, 6, 6, 6, 6, 6, 6, 6, 6, 6, 7, 7, 7, 7, 7, 7, 7,\n",
       "        7, 6, 6, 6, 6, 6, 6, 6, 6, 6, 6], dtype=int64))"
      ]
     },
     "execution_count": 36,
     "metadata": {},
     "output_type": "execute_result"
    }
   ],
   "source": [
    "from scipy.stats import zscore\n",
    "import numpy as np\n",
    "z=np.abs(zscore(df))\n",
    "threshold=3\n",
    "np.where(z>3)"
   ]
  },
  {
   "cell_type": "code",
   "execution_count": 37,
   "metadata": {},
   "outputs": [
    {
     "data": {
      "text/html": [
       "<div>\n",
       "<style scoped>\n",
       "    .dataframe tbody tr th:only-of-type {\n",
       "        vertical-align: middle;\n",
       "    }\n",
       "\n",
       "    .dataframe tbody tr th {\n",
       "        vertical-align: top;\n",
       "    }\n",
       "\n",
       "    .dataframe thead th {\n",
       "        text-align: right;\n",
       "    }\n",
       "</style>\n",
       "<table border=\"1\" class=\"dataframe\">\n",
       "  <thead>\n",
       "    <tr style=\"text-align: right;\">\n",
       "      <th></th>\n",
       "      <th>Airline Name</th>\n",
       "      <th>Dept Time</th>\n",
       "      <th>Duration</th>\n",
       "      <th>Source</th>\n",
       "      <th>Destination</th>\n",
       "      <th>Date(jan)</th>\n",
       "      <th>Stop</th>\n",
       "      <th>Price</th>\n",
       "    </tr>\n",
       "  </thead>\n",
       "  <tbody>\n",
       "    <tr>\n",
       "      <th>0</th>\n",
       "      <td>2</td>\n",
       "      <td>10</td>\n",
       "      <td>8</td>\n",
       "      <td>0</td>\n",
       "      <td>2</td>\n",
       "      <td>22</td>\n",
       "      <td>0</td>\n",
       "      <td>5954</td>\n",
       "    </tr>\n",
       "    <tr>\n",
       "      <th>1</th>\n",
       "      <td>2</td>\n",
       "      <td>31</td>\n",
       "      <td>8</td>\n",
       "      <td>0</td>\n",
       "      <td>2</td>\n",
       "      <td>22</td>\n",
       "      <td>0</td>\n",
       "      <td>5954</td>\n",
       "    </tr>\n",
       "    <tr>\n",
       "      <th>2</th>\n",
       "      <td>2</td>\n",
       "      <td>19</td>\n",
       "      <td>9</td>\n",
       "      <td>0</td>\n",
       "      <td>2</td>\n",
       "      <td>22</td>\n",
       "      <td>0</td>\n",
       "      <td>5954</td>\n",
       "    </tr>\n",
       "    <tr>\n",
       "      <th>3</th>\n",
       "      <td>2</td>\n",
       "      <td>15</td>\n",
       "      <td>10</td>\n",
       "      <td>0</td>\n",
       "      <td>2</td>\n",
       "      <td>22</td>\n",
       "      <td>0</td>\n",
       "      <td>5954</td>\n",
       "    </tr>\n",
       "    <tr>\n",
       "      <th>4</th>\n",
       "      <td>2</td>\n",
       "      <td>8</td>\n",
       "      <td>15</td>\n",
       "      <td>0</td>\n",
       "      <td>2</td>\n",
       "      <td>22</td>\n",
       "      <td>0</td>\n",
       "      <td>5954</td>\n",
       "    </tr>\n",
       "    <tr>\n",
       "      <th>...</th>\n",
       "      <td>...</td>\n",
       "      <td>...</td>\n",
       "      <td>...</td>\n",
       "      <td>...</td>\n",
       "      <td>...</td>\n",
       "      <td>...</td>\n",
       "      <td>...</td>\n",
       "      <td>...</td>\n",
       "    </tr>\n",
       "    <tr>\n",
       "      <th>1508</th>\n",
       "      <td>3</td>\n",
       "      <td>30</td>\n",
       "      <td>8</td>\n",
       "      <td>1</td>\n",
       "      <td>1</td>\n",
       "      <td>29</td>\n",
       "      <td>1</td>\n",
       "      <td>8043</td>\n",
       "    </tr>\n",
       "    <tr>\n",
       "      <th>1509</th>\n",
       "      <td>3</td>\n",
       "      <td>14</td>\n",
       "      <td>16</td>\n",
       "      <td>1</td>\n",
       "      <td>1</td>\n",
       "      <td>29</td>\n",
       "      <td>1</td>\n",
       "      <td>8043</td>\n",
       "    </tr>\n",
       "    <tr>\n",
       "      <th>1510</th>\n",
       "      <td>3</td>\n",
       "      <td>21</td>\n",
       "      <td>17</td>\n",
       "      <td>1</td>\n",
       "      <td>1</td>\n",
       "      <td>29</td>\n",
       "      <td>1</td>\n",
       "      <td>8043</td>\n",
       "    </tr>\n",
       "    <tr>\n",
       "      <th>1511</th>\n",
       "      <td>3</td>\n",
       "      <td>13</td>\n",
       "      <td>18</td>\n",
       "      <td>1</td>\n",
       "      <td>1</td>\n",
       "      <td>29</td>\n",
       "      <td>1</td>\n",
       "      <td>8043</td>\n",
       "    </tr>\n",
       "    <tr>\n",
       "      <th>1512</th>\n",
       "      <td>3</td>\n",
       "      <td>9</td>\n",
       "      <td>19</td>\n",
       "      <td>1</td>\n",
       "      <td>1</td>\n",
       "      <td>29</td>\n",
       "      <td>1</td>\n",
       "      <td>8043</td>\n",
       "    </tr>\n",
       "  </tbody>\n",
       "</table>\n",
       "<p>1480 rows × 8 columns</p>\n",
       "</div>"
      ],
      "text/plain": [
       "      Airline Name  Dept Time  Duration  Source  Destination  Date(jan)  Stop  \\\n",
       "0                2         10         8       0            2         22     0   \n",
       "1                2         31         8       0            2         22     0   \n",
       "2                2         19         9       0            2         22     0   \n",
       "3                2         15        10       0            2         22     0   \n",
       "4                2          8        15       0            2         22     0   \n",
       "...            ...        ...       ...     ...          ...        ...   ...   \n",
       "1508             3         30         8       1            1         29     1   \n",
       "1509             3         14        16       1            1         29     1   \n",
       "1510             3         21        17       1            1         29     1   \n",
       "1511             3         13        18       1            1         29     1   \n",
       "1512             3          9        19       1            1         29     1   \n",
       "\n",
       "      Price  \n",
       "0      5954  \n",
       "1      5954  \n",
       "2      5954  \n",
       "3      5954  \n",
       "4      5954  \n",
       "...     ...  \n",
       "1508   8043  \n",
       "1509   8043  \n",
       "1510   8043  \n",
       "1511   8043  \n",
       "1512   8043  \n",
       "\n",
       "[1480 rows x 8 columns]"
      ]
     },
     "execution_count": 37,
     "metadata": {},
     "output_type": "execute_result"
    }
   ],
   "source": [
    "df_new_z=df[(z<3).all(axis=1)]\n",
    "df_new_z"
   ]
  },
  {
   "cell_type": "code",
   "execution_count": 38,
   "metadata": {},
   "outputs": [
    {
     "data": {
      "text/plain": [
       "(1480, 8)"
      ]
     },
     "execution_count": 38,
     "metadata": {},
     "output_type": "execute_result"
    }
   ],
   "source": [
    "df_new_z.shape"
   ]
  },
  {
   "cell_type": "code",
   "execution_count": 40,
   "metadata": {},
   "outputs": [
    {
     "data": {
      "text/plain": [
       "0.021810971579643092"
      ]
     },
     "execution_count": 40,
     "metadata": {},
     "output_type": "execute_result"
    }
   ],
   "source": [
    "Dataloss=((1513-1480)/1513)\n",
    "Dataloss"
   ]
  },
  {
   "cell_type": "code",
   "execution_count": 83,
   "metadata": {},
   "outputs": [
    {
     "data": {
      "text/html": [
       "<div>\n",
       "<style scoped>\n",
       "    .dataframe tbody tr th:only-of-type {\n",
       "        vertical-align: middle;\n",
       "    }\n",
       "\n",
       "    .dataframe tbody tr th {\n",
       "        vertical-align: top;\n",
       "    }\n",
       "\n",
       "    .dataframe thead th {\n",
       "        text-align: right;\n",
       "    }\n",
       "</style>\n",
       "<table border=\"1\" class=\"dataframe\">\n",
       "  <thead>\n",
       "    <tr style=\"text-align: right;\">\n",
       "      <th></th>\n",
       "      <th>Airline Name</th>\n",
       "      <th>Dept Time</th>\n",
       "      <th>Duration</th>\n",
       "      <th>Source</th>\n",
       "      <th>Destination</th>\n",
       "      <th>Date(jan)</th>\n",
       "      <th>Stop</th>\n",
       "      <th>Price</th>\n",
       "    </tr>\n",
       "  </thead>\n",
       "  <tbody>\n",
       "    <tr>\n",
       "      <th>count</th>\n",
       "      <td>1513.000000</td>\n",
       "      <td>1513.000000</td>\n",
       "      <td>1513.000000</td>\n",
       "      <td>1513.000000</td>\n",
       "      <td>1513.000000</td>\n",
       "      <td>1513.000000</td>\n",
       "      <td>1513.000000</td>\n",
       "      <td>1513.000000</td>\n",
       "    </tr>\n",
       "    <tr>\n",
       "      <th>mean</th>\n",
       "      <td>2.537343</td>\n",
       "      <td>17.374091</td>\n",
       "      <td>8.420357</td>\n",
       "      <td>0.435558</td>\n",
       "      <td>0.485790</td>\n",
       "      <td>25.951751</td>\n",
       "      <td>0.379379</td>\n",
       "      <td>6529.653007</td>\n",
       "    </tr>\n",
       "    <tr>\n",
       "      <th>std</th>\n",
       "      <td>1.088705</td>\n",
       "      <td>9.680828</td>\n",
       "      <td>4.606231</td>\n",
       "      <td>0.495994</td>\n",
       "      <td>0.767195</td>\n",
       "      <td>2.497019</td>\n",
       "      <td>0.518339</td>\n",
       "      <td>1189.649919</td>\n",
       "    </tr>\n",
       "    <tr>\n",
       "      <th>min</th>\n",
       "      <td>0.000000</td>\n",
       "      <td>0.000000</td>\n",
       "      <td>0.000000</td>\n",
       "      <td>0.000000</td>\n",
       "      <td>0.000000</td>\n",
       "      <td>22.000000</td>\n",
       "      <td>0.000000</td>\n",
       "      <td>5102.000000</td>\n",
       "    </tr>\n",
       "    <tr>\n",
       "      <th>25%</th>\n",
       "      <td>2.000000</td>\n",
       "      <td>8.000000</td>\n",
       "      <td>7.000000</td>\n",
       "      <td>0.000000</td>\n",
       "      <td>0.000000</td>\n",
       "      <td>24.000000</td>\n",
       "      <td>0.000000</td>\n",
       "      <td>5103.000000</td>\n",
       "    </tr>\n",
       "    <tr>\n",
       "      <th>50%</th>\n",
       "      <td>2.000000</td>\n",
       "      <td>18.000000</td>\n",
       "      <td>8.000000</td>\n",
       "      <td>0.000000</td>\n",
       "      <td>0.000000</td>\n",
       "      <td>26.000000</td>\n",
       "      <td>0.000000</td>\n",
       "      <td>5955.000000</td>\n",
       "    </tr>\n",
       "    <tr>\n",
       "      <th>75%</th>\n",
       "      <td>3.000000</td>\n",
       "      <td>26.000000</td>\n",
       "      <td>8.000000</td>\n",
       "      <td>1.000000</td>\n",
       "      <td>1.000000</td>\n",
       "      <td>28.000000</td>\n",
       "      <td>1.000000</td>\n",
       "      <td>7487.000000</td>\n",
       "    </tr>\n",
       "    <tr>\n",
       "      <th>max</th>\n",
       "      <td>5.000000</td>\n",
       "      <td>31.000000</td>\n",
       "      <td>21.000000</td>\n",
       "      <td>1.000000</td>\n",
       "      <td>2.000000</td>\n",
       "      <td>30.000000</td>\n",
       "      <td>2.000000</td>\n",
       "      <td>16236.000000</td>\n",
       "    </tr>\n",
       "  </tbody>\n",
       "</table>\n",
       "</div>"
      ],
      "text/plain": [
       "       Airline Name    Dept Time     Duration       Source  Destination  \\\n",
       "count   1513.000000  1513.000000  1513.000000  1513.000000  1513.000000   \n",
       "mean       2.537343    17.374091     8.420357     0.435558     0.485790   \n",
       "std        1.088705     9.680828     4.606231     0.495994     0.767195   \n",
       "min        0.000000     0.000000     0.000000     0.000000     0.000000   \n",
       "25%        2.000000     8.000000     7.000000     0.000000     0.000000   \n",
       "50%        2.000000    18.000000     8.000000     0.000000     0.000000   \n",
       "75%        3.000000    26.000000     8.000000     1.000000     1.000000   \n",
       "max        5.000000    31.000000    21.000000     1.000000     2.000000   \n",
       "\n",
       "         Date(jan)         Stop         Price  \n",
       "count  1513.000000  1513.000000   1513.000000  \n",
       "mean     25.951751     0.379379   6529.653007  \n",
       "std       2.497019     0.518339   1189.649919  \n",
       "min      22.000000     0.000000   5102.000000  \n",
       "25%      24.000000     0.000000   5103.000000  \n",
       "50%      26.000000     0.000000   5955.000000  \n",
       "75%      28.000000     1.000000   7487.000000  \n",
       "max      30.000000     2.000000  16236.000000  "
      ]
     },
     "execution_count": 83,
     "metadata": {},
     "output_type": "execute_result"
    }
   ],
   "source": [
    "df.describe()"
   ]
  },
  {
   "cell_type": "markdown",
   "metadata": {},
   "source": [
    "# Features and Target"
   ]
  },
  {
   "cell_type": "code",
   "execution_count": 84,
   "metadata": {},
   "outputs": [],
   "source": [
    "features=df.drop(\"Price\",axis=1)\n",
    "target=df[\"Price\"]"
   ]
  },
  {
   "cell_type": "code",
   "execution_count": 42,
   "metadata": {},
   "outputs": [],
   "source": [
    "x= features\n",
    "y=target"
   ]
  },
  {
   "cell_type": "markdown",
   "metadata": {},
   "source": [
    "# Regression Technique"
   ]
  },
  {
   "cell_type": "code",
   "execution_count": 43,
   "metadata": {},
   "outputs": [],
   "source": [
    "import sklearn\n",
    "from sklearn.preprocessing import StandardScaler\n",
    "import seaborn as sns\n",
    "from sklearn.model_selection import train_test_split\n",
    "from sklearn.linear_model import LinearRegression\n",
    "from sklearn.metrics import mean_squared_error,mean_absolute_error,r2_score\n",
    "import warnings\n",
    "warnings.filterwarnings('ignore')"
   ]
  },
  {
   "cell_type": "code",
   "execution_count": 44,
   "metadata": {},
   "outputs": [
    {
     "data": {
      "text/plain": [
       "array([[-0.49372498, -0.76197298, -0.0912885 , ...,  1.97435011,\n",
       "        -1.58311086, -0.73215477],\n",
       "       [-0.49372498,  1.4079802 , -0.0912885 , ...,  1.97435011,\n",
       "        -1.58311086, -0.73215477],\n",
       "       [-0.49372498,  0.16800695,  0.12588052, ...,  1.97435011,\n",
       "        -1.58311086, -0.73215477],\n",
       "       ...,\n",
       "       [ 0.42510146,  0.37466916,  1.86323265, ...,  0.67046896,\n",
       "         1.2211586 ,  1.19772357],\n",
       "       [ 0.42510146, -0.45197967,  2.08040167, ...,  0.67046896,\n",
       "         1.2211586 ,  1.19772357],\n",
       "       [ 0.42510146, -0.86530409,  2.29757068, ...,  0.67046896,\n",
       "         1.2211586 ,  1.19772357]])"
      ]
     },
     "execution_count": 44,
     "metadata": {},
     "output_type": "execute_result"
    }
   ],
   "source": [
    "scale=StandardScaler()\n",
    "x=scale.fit_transform(x)\n",
    "x"
   ]
  },
  {
   "cell_type": "code",
   "execution_count": 45,
   "metadata": {},
   "outputs": [],
   "source": [
    "xtrain,xtest,ytrain,ytest=train_test_split(x,y,test_size=0.30,random_state=55)"
   ]
  },
  {
   "cell_type": "code",
   "execution_count": 46,
   "metadata": {},
   "outputs": [
    {
     "data": {
      "text/plain": [
       "array([ -23.80832306,   -7.21423322,   15.62311634, -618.13833158,\n",
       "       -298.38668374,  189.49497936,  205.2885651 ])"
      ]
     },
     "execution_count": 46,
     "metadata": {},
     "output_type": "execute_result"
    }
   ],
   "source": [
    "lr=LinearRegression()\n",
    "lr.fit(xtrain,ytrain)\n",
    "lr.coef_"
   ]
  },
  {
   "cell_type": "code",
   "execution_count": 47,
   "metadata": {},
   "outputs": [
    {
     "data": {
      "text/plain": [
       "[(-23.808323061538815, 'Airline Name'),\n",
       " (-7.214233216592049, 'Dept Time'),\n",
       " (15.623116341381788, 'Duration'),\n",
       " (-618.138331576798, 'Source'),\n",
       " (-298.38668374037445, 'Destination'),\n",
       " (189.49497935744614, 'Date(jan)'),\n",
       " (205.28856509659727, 'Stop')]"
      ]
     },
     "execution_count": 47,
     "metadata": {},
     "output_type": "execute_result"
    }
   ],
   "source": [
    "list(zip(lr.coef_,features))"
   ]
  },
  {
   "cell_type": "code",
   "execution_count": 48,
   "metadata": {},
   "outputs": [
    {
     "data": {
      "text/plain": [
       "6523.865939081617"
      ]
     },
     "execution_count": 48,
     "metadata": {},
     "output_type": "execute_result"
    }
   ],
   "source": [
    "lr.intercept_"
   ]
  },
  {
   "cell_type": "code",
   "execution_count": 49,
   "metadata": {},
   "outputs": [
    {
     "data": {
      "text/plain": [
       "0.311113533670187"
      ]
     },
     "execution_count": 49,
     "metadata": {},
     "output_type": "execute_result"
    }
   ],
   "source": [
    "lr.score(xtrain,ytrain)"
   ]
  },
  {
   "cell_type": "code",
   "execution_count": 50,
   "metadata": {},
   "outputs": [
    {
     "data": {
      "text/plain": [
       "array([7814.63358309, 5718.6590365 , 7387.9372058 , 7286.82812366,\n",
       "       7091.24955177, 7529.38884106, 6274.0758695 , 5640.94675579,\n",
       "       6113.70025751, 5639.60935361, 6187.64931321, 5929.28221731,\n",
       "       6900.37027576, 5657.79007616, 7352.79325116, 7324.20844235,\n",
       "       7496.89228854, 6142.18940101, 5593.46804904, 6160.87669152,\n",
       "       7034.22988045, 7738.72001382, 6274.7447027 , 7203.79798505,\n",
       "       5663.90590463, 7430.94318447, 5954.29194373, 5999.41305855,\n",
       "       5645.41948388, 7822.42228228, 6884.63910597, 6575.63126627,\n",
       "       5402.37571974, 7182.07221468, 7413.05227211, 5674.02663318,\n",
       "       5597.96949554, 6129.50804878, 5640.94675579, 5591.23168499,\n",
       "       5533.66454379, 6033.18733172, 7497.15008366, 5643.92857452,\n",
       "       5993.42070268, 7355.60936437, 6000.93611177, 7969.24560749,\n",
       "       6508.66315318, 5611.79871789, 7071.01469076, 7565.01715861,\n",
       "       7377.50084026, 6170.10537662, 6169.35992194, 6326.46610551,\n",
       "       7049.13897409, 5562.79682248, 7337.13870284, 6545.32568366,\n",
       "       5991.1087691 , 5696.88760777, 5729.53305465, 5685.49168232,\n",
       "       5941.61921414, 6141.26303691, 7724.96741294, 7724.89079147,\n",
       "       5643.18311984, 7008.36935947, 6187.64931321, 7698.30254346,\n",
       "       6899.5481996 , 7413.05227211, 5616.83467507, 6130.03769438,\n",
       "       5969.45856826, 5616.08922039, 5594.9589584 , 6456.41752737,\n",
       "       7903.69507894, 6331.27645024, 7166.41766636, 5641.72092889,\n",
       "       6477.45860872, 6892.09365278, 7049.73448247, 6183.17658512,\n",
       "       6456.08311077, 7188.29338303, 7204.02455283, 5825.42039315,\n",
       "       7203.20247667, 6900.29365428, 6442.51168354, 5643.92857452,\n",
       "       5611.87533937, 5994.1514501 , 7204.69338603, 6494.57639993,\n",
       "       5561.30591312, 7863.03227602, 6205.95126365, 6053.45091114,\n",
       "       7088.62224542, 6884.63910597, 7118.34345122, 5683.90839227,\n",
       "       7413.79772679, 7757.05292738, 6255.36288098, 7634.13507546,\n",
       "       5652.8740307 , 6116.93987136, 6933.08359269, 7861.1699023 ,\n",
       "       6375.7148053 , 5416.76922313, 6025.30918765, 6532.33109664,\n",
       "       7041.68442727, 7202.04598391, 5950.9757084 , 7197.8343476 ,\n",
       "       5706.1887691 , 5967.95866061, 5622.99629733, 6022.81182844,\n",
       "       6616.5267216 , 7276.87968189, 7724.63299634, 6423.92443911,\n",
       "       5819.4024747 , 6012.05706973, 7808.85085506, 7203.94793135,\n",
       "       5805.44662392, 7263.46149762, 7968.98781237, 7385.67514374,\n",
       "       5672.87014042, 7716.84429714, 6273.99924802, 6566.09386258,\n",
       "       7711.06156911, 6900.29365428, 7279.9381221 , 7551.18793626,\n",
       "       6009.4096676 , 6981.68293723, 5645.41948388, 6047.2796143 ,\n",
       "       7465.74916164, 6177.13632619, 7128.11098356, 7546.47540493,\n",
       "       7163.43584763, 7043.92079132, 5638.01297557, 7269.19856729,\n",
       "       6005.19578658, 5611.8144771 , 7182.99857878, 5594.21350372,\n",
       "       6350.65827197, 6188.25381988, 7039.44806323, 6198.08567875,\n",
       "       7337.13870284, 5645.41948388, 5547.63019794, 5588.91869947,\n",
       "       7167.16312104, 5988.35707903, 6098.64877623, 7261.97058826,\n",
       "       6870.8556774 , 6271.01742929, 5538.13727188, 5760.94973589,\n",
       "       6976.28384503, 7179.09039595, 6553.87239671, 7648.9772222 ,\n",
       "       5559.06954907, 5637.96493707, 7095.87222617, 5579.65234118,\n",
       "       6517.60860936, 6436.2039549 , 7291.28509254, 5795.01025837,\n",
       "       5956.85026182, 5772.80117704, 6175.32355939, 5759.82196154,\n",
       "       5376.61922248, 5900.61084822, 6053.31895673, 5716.86032506,\n",
       "       7461.58871301, 7204.69338603, 6963.12555977, 6955.33686057,\n",
       "       6062.94383721, 6272.09730058, 5957.27376245, 5426.74889224,\n",
       "       5669.3816183 , 7421.31313588, 5748.78370968, 7785.96221399,\n",
       "       6889.85728874, 7113.12526845, 5567.78948942, 6131.37509657,\n",
       "       7276.87968189, 7635.14799985, 7202.04598391, 7164.18130231,\n",
       "       7391.17655543, 7326.99003156, 6067.28013349, 5609.86805204,\n",
       "       6081.10935585, 5674.02663318, 6593.32589768, 6510.15406255,\n",
       "       7135.89994698, 5575.17961309, 6062.94383721, 6837.90585389,\n",
       "       5478.28928901, 6326.13515317, 5730.27850933, 7421.99772829,\n",
       "       5644.50993093, 5901.76734098, 7066.39201637, 7109.39799504,\n",
       "       5613.10740166, 6058.44014599, 6076.45545411, 6334.25826897,\n",
       "       6137.84448208, 6014.68871264, 5719.84214379, 6719.02853887,\n",
       "       7796.24863323, 6346.93099856, 7510.97930602, 6092.70089799,\n",
       "       6043.27672149, 7828.25396532, 7413.79772679, 7492.59435617,\n",
       "       7203.20247667, 6628.27282286, 6033.18733172, 7313.16080921,\n",
       "       5812.41324696, 6899.5481996 , 5577.70591612, 5565.03318653,\n",
       "       7031.17144025, 6882.40274192, 7787.11870675, 6531.64002968,\n",
       "       5867.35111335, 6000.93611177, 7619.0550112 , 6892.68916116,\n",
       "       6576.08252999, 6143.27032424, 8077.06351755, 7355.77506989,\n",
       "       5716.42267246, 7039.44806323, 7784.50253197, 5640.94675579,\n",
       "       5992.675248  , 6094.19180735, 7363.64065478, 6424.25539145,\n",
       "       6794.94210814, 5784.49727135, 6095.99051879, 7735.25383219,\n",
       "       7303.82363504, 6349.91281729, 6067.02233837, 5376.61922248,\n",
       "       5599.43168649, 5635.77661152, 6128.35155602, 6063.08740558,\n",
       "       6192.88005515, 7850.129682  , 6890.60274342, 6109.10090099,\n",
       "       7172.38130381, 6187.64931321, 7006.87699312, 5810.63819217,\n",
       "       6882.40274192, 6198.08567875, 7302.48267198, 6179.44931171,\n",
       "       7800.80436073, 5827.32234059, 7274.98326378, 6629.28574725,\n",
       "       7112.37981377, 6705.34288489, 6326.38948403, 6718.77074374,\n",
       "       6404.87703399, 6470.17012824, 5991.36656423, 6899.5481996 ,\n",
       "       6036.56442932, 7077.98487468, 7106.15864541, 6704.18639213,\n",
       "       7198.57980228, 7399.1030026 , 6883.89365128, 6593.32589768,\n",
       "       6281.86483292, 6904.28201947, 6554.50100427, 7194.25702049,\n",
       "       5657.6042897 , 7774.21611273, 7662.80644455, 6387.46090656,\n",
       "       6168.61446725, 6196.18373131, 6954.33150688, 5613.85285635,\n",
       "       5394.51013485, 7325.69935171, 6553.51574635, 6177.13632619,\n",
       "       6594.34425479, 7301.73721729, 6067.02233837, 7261.22513357,\n",
       "       7151.9964965 , 7141.71007726, 5632.67013282, 7331.49372278,\n",
       "       6974.30527611, 7510.97930602, 5536.64636252, 5950.9757084 ,\n",
       "       6900.29365428, 6885.38456065, 7558.22150619, 6156.84069952,\n",
       "       6091.20998862, 5654.36494007, 6407.93547419, 7189.93779957,\n",
       "       7784.50253197, 6020.51460213, 7128.03436208, 7558.22150619,\n",
       "       6136.14914208, 5652.8740307 , 5652.8740307 , 7711.20513749,\n",
       "       5878.97388284, 5646.21297707, 7189.03883772, 6072.06052823,\n",
       "       5734.13241117, 6591.28581458, 6607.55359895, 5655.33934267,\n",
       "       6161.23680614, 7203.94793135, 6371.78853396, 7716.84429714,\n",
       "       6350.83918139, 6016.18282205, 6182.75240819, 5773.87999638,\n",
       "       6562.17668616, 7497.22670514, 5613.10740166, 7279.86150062,\n",
       "       5647.32143133, 5676.28869524, 5362.42462041, 7667.31013576,\n",
       "       6122.17210949, 7333.89935321, 5675.34525576, 5600.37512597,\n",
       "       7355.85169136, 5638.71039175, 5810.04598044, 6550.7309571 ,\n",
       "       6312.56026168, 5991.1087691 , 6422.84456783, 6980.19558874,\n",
       "       6139.00097484, 6005.01356099, 6566.94360521, 6331.27645024,\n",
       "       6166.37810321, 7384.51865098, 7047.49811842, 5534.88084687,\n",
       "       5957.35038393, 6333.51281429, 7204.02455283, 5799.14856986,\n",
       "       6045.4810383 , 5644.872014  , 6179.56615883, 5217.82546091,\n",
       "       5637.96493707, 5767.91635893, 6882.40274192, 6084.96312225,\n",
       "       7350.32675846, 6083.80662949, 6545.40230514, 6439.50210173,\n",
       "       7146.18636623, 5344.46064744, 7264.2069523 , 7644.26469087,\n",
       "       7131.27371171, 5375.8737678 , 7114.02423031, 5864.70371123,\n",
       "       7052.7163012 , 5808.68597355, 5651.71753794, 6182.03265153,\n",
       "       7388.01382728, 7312.76909122, 6425.82638656, 6033.9327864 ,\n",
       "       7059.98637772, 6023.49642086, 7453.64097731, 7421.25227361,\n",
       "       5635.72857302, 5636.5220662 ])"
      ]
     },
     "execution_count": 50,
     "metadata": {},
     "output_type": "execute_result"
    }
   ],
   "source": [
    "pred=lr.predict(xtest)\n",
    "pred"
   ]
  },
  {
   "cell_type": "code",
   "execution_count": 51,
   "metadata": {},
   "outputs": [
    {
     "name": "stdout",
     "output_type": "stream",
     "text": [
      "Predicted values [7814.63358309 5718.6590365  7387.9372058  7286.82812366 7091.24955177\n",
      " 7529.38884106 6274.0758695  5640.94675579 6113.70025751 5639.60935361\n",
      " 6187.64931321 5929.28221731 6900.37027576 5657.79007616 7352.79325116\n",
      " 7324.20844235 7496.89228854 6142.18940101 5593.46804904 6160.87669152\n",
      " 7034.22988045 7738.72001382 6274.7447027  7203.79798505 5663.90590463\n",
      " 7430.94318447 5954.29194373 5999.41305855 5645.41948388 7822.42228228\n",
      " 6884.63910597 6575.63126627 5402.37571974 7182.07221468 7413.05227211\n",
      " 5674.02663318 5597.96949554 6129.50804878 5640.94675579 5591.23168499\n",
      " 5533.66454379 6033.18733172 7497.15008366 5643.92857452 5993.42070268\n",
      " 7355.60936437 6000.93611177 7969.24560749 6508.66315318 5611.79871789\n",
      " 7071.01469076 7565.01715861 7377.50084026 6170.10537662 6169.35992194\n",
      " 6326.46610551 7049.13897409 5562.79682248 7337.13870284 6545.32568366\n",
      " 5991.1087691  5696.88760777 5729.53305465 5685.49168232 5941.61921414\n",
      " 6141.26303691 7724.96741294 7724.89079147 5643.18311984 7008.36935947\n",
      " 6187.64931321 7698.30254346 6899.5481996  7413.05227211 5616.83467507\n",
      " 6130.03769438 5969.45856826 5616.08922039 5594.9589584  6456.41752737\n",
      " 7903.69507894 6331.27645024 7166.41766636 5641.72092889 6477.45860872\n",
      " 6892.09365278 7049.73448247 6183.17658512 6456.08311077 7188.29338303\n",
      " 7204.02455283 5825.42039315 7203.20247667 6900.29365428 6442.51168354\n",
      " 5643.92857452 5611.87533937 5994.1514501  7204.69338603 6494.57639993\n",
      " 5561.30591312 7863.03227602 6205.95126365 6053.45091114 7088.62224542\n",
      " 6884.63910597 7118.34345122 5683.90839227 7413.79772679 7757.05292738\n",
      " 6255.36288098 7634.13507546 5652.8740307  6116.93987136 6933.08359269\n",
      " 7861.1699023  6375.7148053  5416.76922313 6025.30918765 6532.33109664\n",
      " 7041.68442727 7202.04598391 5950.9757084  7197.8343476  5706.1887691\n",
      " 5967.95866061 5622.99629733 6022.81182844 6616.5267216  7276.87968189\n",
      " 7724.63299634 6423.92443911 5819.4024747  6012.05706973 7808.85085506\n",
      " 7203.94793135 5805.44662392 7263.46149762 7968.98781237 7385.67514374\n",
      " 5672.87014042 7716.84429714 6273.99924802 6566.09386258 7711.06156911\n",
      " 6900.29365428 7279.9381221  7551.18793626 6009.4096676  6981.68293723\n",
      " 5645.41948388 6047.2796143  7465.74916164 6177.13632619 7128.11098356\n",
      " 7546.47540493 7163.43584763 7043.92079132 5638.01297557 7269.19856729\n",
      " 6005.19578658 5611.8144771  7182.99857878 5594.21350372 6350.65827197\n",
      " 6188.25381988 7039.44806323 6198.08567875 7337.13870284 5645.41948388\n",
      " 5547.63019794 5588.91869947 7167.16312104 5988.35707903 6098.64877623\n",
      " 7261.97058826 6870.8556774  6271.01742929 5538.13727188 5760.94973589\n",
      " 6976.28384503 7179.09039595 6553.87239671 7648.9772222  5559.06954907\n",
      " 5637.96493707 7095.87222617 5579.65234118 6517.60860936 6436.2039549\n",
      " 7291.28509254 5795.01025837 5956.85026182 5772.80117704 6175.32355939\n",
      " 5759.82196154 5376.61922248 5900.61084822 6053.31895673 5716.86032506\n",
      " 7461.58871301 7204.69338603 6963.12555977 6955.33686057 6062.94383721\n",
      " 6272.09730058 5957.27376245 5426.74889224 5669.3816183  7421.31313588\n",
      " 5748.78370968 7785.96221399 6889.85728874 7113.12526845 5567.78948942\n",
      " 6131.37509657 7276.87968189 7635.14799985 7202.04598391 7164.18130231\n",
      " 7391.17655543 7326.99003156 6067.28013349 5609.86805204 6081.10935585\n",
      " 5674.02663318 6593.32589768 6510.15406255 7135.89994698 5575.17961309\n",
      " 6062.94383721 6837.90585389 5478.28928901 6326.13515317 5730.27850933\n",
      " 7421.99772829 5644.50993093 5901.76734098 7066.39201637 7109.39799504\n",
      " 5613.10740166 6058.44014599 6076.45545411 6334.25826897 6137.84448208\n",
      " 6014.68871264 5719.84214379 6719.02853887 7796.24863323 6346.93099856\n",
      " 7510.97930602 6092.70089799 6043.27672149 7828.25396532 7413.79772679\n",
      " 7492.59435617 7203.20247667 6628.27282286 6033.18733172 7313.16080921\n",
      " 5812.41324696 6899.5481996  5577.70591612 5565.03318653 7031.17144025\n",
      " 6882.40274192 7787.11870675 6531.64002968 5867.35111335 6000.93611177\n",
      " 7619.0550112  6892.68916116 6576.08252999 6143.27032424 8077.06351755\n",
      " 7355.77506989 5716.42267246 7039.44806323 7784.50253197 5640.94675579\n",
      " 5992.675248   6094.19180735 7363.64065478 6424.25539145 6794.94210814\n",
      " 5784.49727135 6095.99051879 7735.25383219 7303.82363504 6349.91281729\n",
      " 6067.02233837 5376.61922248 5599.43168649 5635.77661152 6128.35155602\n",
      " 6063.08740558 6192.88005515 7850.129682   6890.60274342 6109.10090099\n",
      " 7172.38130381 6187.64931321 7006.87699312 5810.63819217 6882.40274192\n",
      " 6198.08567875 7302.48267198 6179.44931171 7800.80436073 5827.32234059\n",
      " 7274.98326378 6629.28574725 7112.37981377 6705.34288489 6326.38948403\n",
      " 6718.77074374 6404.87703399 6470.17012824 5991.36656423 6899.5481996\n",
      " 6036.56442932 7077.98487468 7106.15864541 6704.18639213 7198.57980228\n",
      " 7399.1030026  6883.89365128 6593.32589768 6281.86483292 6904.28201947\n",
      " 6554.50100427 7194.25702049 5657.6042897  7774.21611273 7662.80644455\n",
      " 6387.46090656 6168.61446725 6196.18373131 6954.33150688 5613.85285635\n",
      " 5394.51013485 7325.69935171 6553.51574635 6177.13632619 6594.34425479\n",
      " 7301.73721729 6067.02233837 7261.22513357 7151.9964965  7141.71007726\n",
      " 5632.67013282 7331.49372278 6974.30527611 7510.97930602 5536.64636252\n",
      " 5950.9757084  6900.29365428 6885.38456065 7558.22150619 6156.84069952\n",
      " 6091.20998862 5654.36494007 6407.93547419 7189.93779957 7784.50253197\n",
      " 6020.51460213 7128.03436208 7558.22150619 6136.14914208 5652.8740307\n",
      " 5652.8740307  7711.20513749 5878.97388284 5646.21297707 7189.03883772\n",
      " 6072.06052823 5734.13241117 6591.28581458 6607.55359895 5655.33934267\n",
      " 6161.23680614 7203.94793135 6371.78853396 7716.84429714 6350.83918139\n",
      " 6016.18282205 6182.75240819 5773.87999638 6562.17668616 7497.22670514\n",
      " 5613.10740166 7279.86150062 5647.32143133 5676.28869524 5362.42462041\n",
      " 7667.31013576 6122.17210949 7333.89935321 5675.34525576 5600.37512597\n",
      " 7355.85169136 5638.71039175 5810.04598044 6550.7309571  6312.56026168\n",
      " 5991.1087691  6422.84456783 6980.19558874 6139.00097484 6005.01356099\n",
      " 6566.94360521 6331.27645024 6166.37810321 7384.51865098 7047.49811842\n",
      " 5534.88084687 5957.35038393 6333.51281429 7204.02455283 5799.14856986\n",
      " 6045.4810383  5644.872014   6179.56615883 5217.82546091 5637.96493707\n",
      " 5767.91635893 6882.40274192 6084.96312225 7350.32675846 6083.80662949\n",
      " 6545.40230514 6439.50210173 7146.18636623 5344.46064744 7264.2069523\n",
      " 7644.26469087 7131.27371171 5375.8737678  7114.02423031 5864.70371123\n",
      " 7052.7163012  5808.68597355 5651.71753794 6182.03265153 7388.01382728\n",
      " 7312.76909122 6425.82638656 6033.9327864  7059.98637772 6023.49642086\n",
      " 7453.64097731 7421.25227361 5635.72857302 5636.5220662 ]\n"
     ]
    }
   ],
   "source": [
    "print('Predicted values',pred)"
   ]
  },
  {
   "cell_type": "code",
   "execution_count": 52,
   "metadata": {},
   "outputs": [
    {
     "data": {
      "text/html": [
       "<div>\n",
       "<style scoped>\n",
       "    .dataframe tbody tr th:only-of-type {\n",
       "        vertical-align: middle;\n",
       "    }\n",
       "\n",
       "    .dataframe tbody tr th {\n",
       "        vertical-align: top;\n",
       "    }\n",
       "\n",
       "    .dataframe thead th {\n",
       "        text-align: right;\n",
       "    }\n",
       "</style>\n",
       "<table border=\"1\" class=\"dataframe\">\n",
       "  <thead>\n",
       "    <tr style=\"text-align: right;\">\n",
       "      <th></th>\n",
       "      <th>0</th>\n",
       "    </tr>\n",
       "  </thead>\n",
       "  <tbody>\n",
       "    <tr>\n",
       "      <th>0</th>\n",
       "      <td>7814.633583</td>\n",
       "    </tr>\n",
       "    <tr>\n",
       "      <th>1</th>\n",
       "      <td>5718.659037</td>\n",
       "    </tr>\n",
       "    <tr>\n",
       "      <th>2</th>\n",
       "      <td>7387.937206</td>\n",
       "    </tr>\n",
       "    <tr>\n",
       "      <th>3</th>\n",
       "      <td>7286.828124</td>\n",
       "    </tr>\n",
       "    <tr>\n",
       "      <th>4</th>\n",
       "      <td>7091.249552</td>\n",
       "    </tr>\n",
       "    <tr>\n",
       "      <th>...</th>\n",
       "      <td>...</td>\n",
       "    </tr>\n",
       "    <tr>\n",
       "      <th>449</th>\n",
       "      <td>6023.496421</td>\n",
       "    </tr>\n",
       "    <tr>\n",
       "      <th>450</th>\n",
       "      <td>7453.640977</td>\n",
       "    </tr>\n",
       "    <tr>\n",
       "      <th>451</th>\n",
       "      <td>7421.252274</td>\n",
       "    </tr>\n",
       "    <tr>\n",
       "      <th>452</th>\n",
       "      <td>5635.728573</td>\n",
       "    </tr>\n",
       "    <tr>\n",
       "      <th>453</th>\n",
       "      <td>5636.522066</td>\n",
       "    </tr>\n",
       "  </tbody>\n",
       "</table>\n",
       "<p>454 rows × 1 columns</p>\n",
       "</div>"
      ],
      "text/plain": [
       "               0\n",
       "0    7814.633583\n",
       "1    5718.659037\n",
       "2    7387.937206\n",
       "3    7286.828124\n",
       "4    7091.249552\n",
       "..           ...\n",
       "449  6023.496421\n",
       "450  7453.640977\n",
       "451  7421.252274\n",
       "452  5635.728573\n",
       "453  5636.522066\n",
       "\n",
       "[454 rows x 1 columns]"
      ]
     },
     "execution_count": 52,
     "metadata": {},
     "output_type": "execute_result"
    }
   ],
   "source": [
    "preddf=pd.DataFrame(data=pred)\n",
    "preddf"
   ]
  },
  {
   "cell_type": "code",
   "execution_count": 53,
   "metadata": {},
   "outputs": [
    {
     "data": {
      "text/plain": [
       "0.33405257227961527"
      ]
     },
     "execution_count": 53,
     "metadata": {},
     "output_type": "execute_result"
    }
   ],
   "source": [
    "lr.score(xtest,ytest)"
   ]
  },
  {
   "cell_type": "code",
   "execution_count": 54,
   "metadata": {},
   "outputs": [
    {
     "name": "stdout",
     "output_type": "stream",
     "text": [
      "R2 score:: 0.33405257227961527\n"
     ]
    }
   ],
   "source": [
    "print('R2 score::',r2_score(ytest,pred))"
   ]
  },
  {
   "cell_type": "code",
   "execution_count": 55,
   "metadata": {},
   "outputs": [
    {
     "name": "stdout",
     "output_type": "stream",
     "text": [
      "Predicted result: [7814.63358309 5718.6590365  7387.9372058  7286.82812366 7091.24955177\n",
      " 7529.38884106 6274.0758695  5640.94675579 6113.70025751 5639.60935361\n",
      " 6187.64931321 5929.28221731 6900.37027576 5657.79007616 7352.79325116\n",
      " 7324.20844235 7496.89228854 6142.18940101 5593.46804904 6160.87669152\n",
      " 7034.22988045 7738.72001382 6274.7447027  7203.79798505 5663.90590463\n",
      " 7430.94318447 5954.29194373 5999.41305855 5645.41948388 7822.42228228\n",
      " 6884.63910597 6575.63126627 5402.37571974 7182.07221468 7413.05227211\n",
      " 5674.02663318 5597.96949554 6129.50804878 5640.94675579 5591.23168499\n",
      " 5533.66454379 6033.18733172 7497.15008366 5643.92857452 5993.42070268\n",
      " 7355.60936437 6000.93611177 7969.24560749 6508.66315318 5611.79871789\n",
      " 7071.01469076 7565.01715861 7377.50084026 6170.10537662 6169.35992194\n",
      " 6326.46610551 7049.13897409 5562.79682248 7337.13870284 6545.32568366\n",
      " 5991.1087691  5696.88760777 5729.53305465 5685.49168232 5941.61921414\n",
      " 6141.26303691 7724.96741294 7724.89079147 5643.18311984 7008.36935947\n",
      " 6187.64931321 7698.30254346 6899.5481996  7413.05227211 5616.83467507\n",
      " 6130.03769438 5969.45856826 5616.08922039 5594.9589584  6456.41752737\n",
      " 7903.69507894 6331.27645024 7166.41766636 5641.72092889 6477.45860872\n",
      " 6892.09365278 7049.73448247 6183.17658512 6456.08311077 7188.29338303\n",
      " 7204.02455283 5825.42039315 7203.20247667 6900.29365428 6442.51168354\n",
      " 5643.92857452 5611.87533937 5994.1514501  7204.69338603 6494.57639993\n",
      " 5561.30591312 7863.03227602 6205.95126365 6053.45091114 7088.62224542\n",
      " 6884.63910597 7118.34345122 5683.90839227 7413.79772679 7757.05292738\n",
      " 6255.36288098 7634.13507546 5652.8740307  6116.93987136 6933.08359269\n",
      " 7861.1699023  6375.7148053  5416.76922313 6025.30918765 6532.33109664\n",
      " 7041.68442727 7202.04598391 5950.9757084  7197.8343476  5706.1887691\n",
      " 5967.95866061 5622.99629733 6022.81182844 6616.5267216  7276.87968189\n",
      " 7724.63299634 6423.92443911 5819.4024747  6012.05706973 7808.85085506\n",
      " 7203.94793135 5805.44662392 7263.46149762 7968.98781237 7385.67514374\n",
      " 5672.87014042 7716.84429714 6273.99924802 6566.09386258 7711.06156911\n",
      " 6900.29365428 7279.9381221  7551.18793626 6009.4096676  6981.68293723\n",
      " 5645.41948388 6047.2796143  7465.74916164 6177.13632619 7128.11098356\n",
      " 7546.47540493 7163.43584763 7043.92079132 5638.01297557 7269.19856729\n",
      " 6005.19578658 5611.8144771  7182.99857878 5594.21350372 6350.65827197\n",
      " 6188.25381988 7039.44806323 6198.08567875 7337.13870284 5645.41948388\n",
      " 5547.63019794 5588.91869947 7167.16312104 5988.35707903 6098.64877623\n",
      " 7261.97058826 6870.8556774  6271.01742929 5538.13727188 5760.94973589\n",
      " 6976.28384503 7179.09039595 6553.87239671 7648.9772222  5559.06954907\n",
      " 5637.96493707 7095.87222617 5579.65234118 6517.60860936 6436.2039549\n",
      " 7291.28509254 5795.01025837 5956.85026182 5772.80117704 6175.32355939\n",
      " 5759.82196154 5376.61922248 5900.61084822 6053.31895673 5716.86032506\n",
      " 7461.58871301 7204.69338603 6963.12555977 6955.33686057 6062.94383721\n",
      " 6272.09730058 5957.27376245 5426.74889224 5669.3816183  7421.31313588\n",
      " 5748.78370968 7785.96221399 6889.85728874 7113.12526845 5567.78948942\n",
      " 6131.37509657 7276.87968189 7635.14799985 7202.04598391 7164.18130231\n",
      " 7391.17655543 7326.99003156 6067.28013349 5609.86805204 6081.10935585\n",
      " 5674.02663318 6593.32589768 6510.15406255 7135.89994698 5575.17961309\n",
      " 6062.94383721 6837.90585389 5478.28928901 6326.13515317 5730.27850933\n",
      " 7421.99772829 5644.50993093 5901.76734098 7066.39201637 7109.39799504\n",
      " 5613.10740166 6058.44014599 6076.45545411 6334.25826897 6137.84448208\n",
      " 6014.68871264 5719.84214379 6719.02853887 7796.24863323 6346.93099856\n",
      " 7510.97930602 6092.70089799 6043.27672149 7828.25396532 7413.79772679\n",
      " 7492.59435617 7203.20247667 6628.27282286 6033.18733172 7313.16080921\n",
      " 5812.41324696 6899.5481996  5577.70591612 5565.03318653 7031.17144025\n",
      " 6882.40274192 7787.11870675 6531.64002968 5867.35111335 6000.93611177\n",
      " 7619.0550112  6892.68916116 6576.08252999 6143.27032424 8077.06351755\n",
      " 7355.77506989 5716.42267246 7039.44806323 7784.50253197 5640.94675579\n",
      " 5992.675248   6094.19180735 7363.64065478 6424.25539145 6794.94210814\n",
      " 5784.49727135 6095.99051879 7735.25383219 7303.82363504 6349.91281729\n",
      " 6067.02233837 5376.61922248 5599.43168649 5635.77661152 6128.35155602\n",
      " 6063.08740558 6192.88005515 7850.129682   6890.60274342 6109.10090099\n",
      " 7172.38130381 6187.64931321 7006.87699312 5810.63819217 6882.40274192\n",
      " 6198.08567875 7302.48267198 6179.44931171 7800.80436073 5827.32234059\n",
      " 7274.98326378 6629.28574725 7112.37981377 6705.34288489 6326.38948403\n",
      " 6718.77074374 6404.87703399 6470.17012824 5991.36656423 6899.5481996\n",
      " 6036.56442932 7077.98487468 7106.15864541 6704.18639213 7198.57980228\n",
      " 7399.1030026  6883.89365128 6593.32589768 6281.86483292 6904.28201947\n",
      " 6554.50100427 7194.25702049 5657.6042897  7774.21611273 7662.80644455\n",
      " 6387.46090656 6168.61446725 6196.18373131 6954.33150688 5613.85285635\n",
      " 5394.51013485 7325.69935171 6553.51574635 6177.13632619 6594.34425479\n",
      " 7301.73721729 6067.02233837 7261.22513357 7151.9964965  7141.71007726\n",
      " 5632.67013282 7331.49372278 6974.30527611 7510.97930602 5536.64636252\n",
      " 5950.9757084  6900.29365428 6885.38456065 7558.22150619 6156.84069952\n",
      " 6091.20998862 5654.36494007 6407.93547419 7189.93779957 7784.50253197\n",
      " 6020.51460213 7128.03436208 7558.22150619 6136.14914208 5652.8740307\n",
      " 5652.8740307  7711.20513749 5878.97388284 5646.21297707 7189.03883772\n",
      " 6072.06052823 5734.13241117 6591.28581458 6607.55359895 5655.33934267\n",
      " 6161.23680614 7203.94793135 6371.78853396 7716.84429714 6350.83918139\n",
      " 6016.18282205 6182.75240819 5773.87999638 6562.17668616 7497.22670514\n",
      " 5613.10740166 7279.86150062 5647.32143133 5676.28869524 5362.42462041\n",
      " 7667.31013576 6122.17210949 7333.89935321 5675.34525576 5600.37512597\n",
      " 7355.85169136 5638.71039175 5810.04598044 6550.7309571  6312.56026168\n",
      " 5991.1087691  6422.84456783 6980.19558874 6139.00097484 6005.01356099\n",
      " 6566.94360521 6331.27645024 6166.37810321 7384.51865098 7047.49811842\n",
      " 5534.88084687 5957.35038393 6333.51281429 7204.02455283 5799.14856986\n",
      " 6045.4810383  5644.872014   6179.56615883 5217.82546091 5637.96493707\n",
      " 5767.91635893 6882.40274192 6084.96312225 7350.32675846 6083.80662949\n",
      " 6545.40230514 6439.50210173 7146.18636623 5344.46064744 7264.2069523\n",
      " 7644.26469087 7131.27371171 5375.8737678  7114.02423031 5864.70371123\n",
      " 7052.7163012  5808.68597355 5651.71753794 6182.03265153 7388.01382728\n",
      " 7312.76909122 6425.82638656 6033.9327864  7059.98637772 6023.49642086\n",
      " 7453.64097731 7421.25227361 5635.72857302 5636.5220662 ]\n",
      "actual 1381    7487\n",
      "490     8043\n",
      "361     7425\n",
      "1309    7425\n",
      "441     7488\n",
      "        ... \n",
      "998     5102\n",
      "367     7425\n",
      "355     7424\n",
      "1116    5102\n",
      "612     5943\n",
      "Name: Price, Length: 454, dtype: int64\n"
     ]
    }
   ],
   "source": [
    "lm=LinearRegression()\n",
    "lm.fit(xtrain,ytrain)\n",
    "lm.score(xtrain,ytrain)\n",
    "pred=lm.predict(xtest)\n",
    "print('Predicted result:',pred)\n",
    "print('actual',ytest)"
   ]
  },
  {
   "cell_type": "code",
   "execution_count": 56,
   "metadata": {},
   "outputs": [
    {
     "name": "stdout",
     "output_type": "stream",
     "text": [
      "actual result: 1381    7487\n",
      "490     8043\n",
      "361     7425\n",
      "1309    7425\n",
      "441     7488\n",
      "        ... \n",
      "998     5102\n",
      "367     7425\n",
      "355     7424\n",
      "1116    5102\n",
      "612     5943\n",
      "Name: Price, Length: 454, dtype: int64\n"
     ]
    }
   ],
   "source": [
    "print('actual result:',ytest)"
   ]
  },
  {
   "cell_type": "code",
   "execution_count": 57,
   "metadata": {},
   "outputs": [
    {
     "name": "stdout",
     "output_type": "stream",
     "text": [
      "error:\n",
      "876006.3991129005\n"
     ]
    }
   ],
   "source": [
    "print('error:')\n",
    "print(mean_squared_error(pred,ytest))"
   ]
  },
  {
   "cell_type": "code",
   "execution_count": 58,
   "metadata": {},
   "outputs": [
    {
     "data": {
      "text/plain": [
       "0.3111135336701353"
      ]
     },
     "execution_count": 58,
     "metadata": {},
     "output_type": "execute_result"
    }
   ],
   "source": [
    "from sklearn.linear_model import Lasso,Ridge\n",
    "ls=Lasso(alpha=0.0001)\n",
    "ls.fit(xtrain,ytrain)\n",
    "ls.score(xtrain,ytrain)"
   ]
  },
  {
   "cell_type": "code",
   "execution_count": 59,
   "metadata": {},
   "outputs": [
    {
     "data": {
      "text/plain": [
       "array([ -23.80823174,   -7.21414013,   15.62302615, -618.13819653,\n",
       "       -298.38655892,  189.49489231,  205.2884341 ])"
      ]
     },
     "execution_count": 59,
     "metadata": {},
     "output_type": "execute_result"
    }
   ],
   "source": [
    "ls.coef_"
   ]
  },
  {
   "cell_type": "code",
   "execution_count": 60,
   "metadata": {},
   "outputs": [
    {
     "data": {
      "text/plain": [
       "0.3111135336701827"
      ]
     },
     "execution_count": 60,
     "metadata": {},
     "output_type": "execute_result"
    }
   ],
   "source": [
    "rd=Ridge(alpha=0.0001)\n",
    "rd.fit(xtrain,ytrain)\n",
    "rd.score(xtrain,ytrain)"
   ]
  },
  {
   "cell_type": "code",
   "execution_count": 61,
   "metadata": {},
   "outputs": [
    {
     "data": {
      "text/plain": [
       "array([ -23.80833004,   -7.21422984,   15.62311483, -618.13825894,\n",
       "       -298.38664137,  189.49496835,  205.28853029])"
      ]
     },
     "execution_count": 61,
     "metadata": {},
     "output_type": "execute_result"
    }
   ],
   "source": [
    "rd.coef_"
   ]
  },
  {
   "cell_type": "code",
   "execution_count": 62,
   "metadata": {},
   "outputs": [
    {
     "name": "stdout",
     "output_type": "stream",
     "text": [
      "0.31111353245319706\n"
     ]
    },
    {
     "data": {
      "text/plain": [
       "array([ -23.81197165,   -7.21239719,   15.62227291, -618.09980726,\n",
       "       -298.36419029,  189.48910822,  205.2700735 ])"
      ]
     },
     "execution_count": 62,
     "metadata": {},
     "output_type": "execute_result"
    }
   ],
   "source": [
    "from sklearn.linear_model import ElasticNet\n",
    "enr=ElasticNet(alpha=0.0001)\n",
    "enr.fit(xtrain,ytrain)\n",
    "enrpred=enr.predict(xtest)\n",
    "print(enr.score(xtrain,ytrain))\n",
    "enr.coef_"
   ]
  },
  {
   "cell_type": "code",
   "execution_count": 63,
   "metadata": {},
   "outputs": [],
   "source": [
    "from sklearn.svm import SVR"
   ]
  },
  {
   "cell_type": "code",
   "execution_count": 64,
   "metadata": {},
   "outputs": [],
   "source": [
    "svr = SVR(kernel = 'linear')\n",
    "svr.fit(xtrain,ytrain)\n",
    "svr.score(xtrain,ytrain)\n",
    "pred_y=svr.predict(xtest)\n",
    "svr = SVR(kernel = 'poly')\n",
    "svr.fit(xtrain,ytrain)\n",
    "svr.score(xtrain,ytrain)\n",
    "pred_y=svr.predict(xtest)\n",
    "svr = SVR(kernel = 'rbf')\n",
    "svr.fit(xtrain,ytrain)\n",
    "svr.score(xtrain,ytrain)\n",
    "pred_y=svr.predict(xtest)"
   ]
  },
  {
   "cell_type": "code",
   "execution_count": 65,
   "metadata": {},
   "outputs": [
    {
     "name": "stdout",
     "output_type": "stream",
     "text": [
      "0.24544492422228537\n",
      "-0.1427899381957911\n",
      "-0.13661513657571334\n"
     ]
    }
   ],
   "source": [
    "from sklearn.svm import SVR\n",
    "kernellist=['linear','poly','rbf']\n",
    "for i in kernellist:\n",
    "    sv=SVR(kernel=i)\n",
    "    sv.fit(xtrain,ytrain)\n",
    "    print(sv.score(xtrain,ytrain))"
   ]
  },
  {
   "cell_type": "code",
   "execution_count": 66,
   "metadata": {},
   "outputs": [
    {
     "name": "stdout",
     "output_type": "stream",
     "text": [
      "multiclass\n",
      "multiclass\n",
      "multiclass\n"
     ]
    }
   ],
   "source": [
    "from sklearn import preprocessing\n",
    "from sklearn import utils\n",
    "\n",
    "lab_enc = preprocessing.LabelEncoder()\n",
    "encoded = lab_enc.fit_transform(ytrain)\n",
    "\n",
    "print(utils.multiclass.type_of_target(ytrain))\n",
    "\n",
    "print(utils.multiclass.type_of_target(ytrain.astype('int')))\n",
    "\n",
    "print(utils.multiclass.type_of_target(encoded))"
   ]
  },
  {
   "cell_type": "markdown",
   "metadata": {},
   "source": [
    "# Ensemble Procedure"
   ]
  },
  {
   "cell_type": "code",
   "execution_count": 67,
   "metadata": {},
   "outputs": [
    {
     "name": "stdout",
     "output_type": "stream",
     "text": [
      "{'criterion': 'mae', 'max_features': 'log2'}\n"
     ]
    }
   ],
   "source": [
    "from sklearn.model_selection import GridSearchCV\n",
    "from sklearn.ensemble import RandomForestRegressor\n",
    "\n",
    "parameters = {'criterion':['mse', 'mae'],'max_features':[\"auto\", \"sqrt\", \"log2\"]}\n",
    "rf =RandomForestRegressor()\n",
    "clf = GridSearchCV(rf,parameters)\n",
    "clf.fit(xtrain,ytrain)\n",
    "\n",
    "print(clf.best_params_)"
   ]
  },
  {
   "cell_type": "code",
   "execution_count": 68,
   "metadata": {},
   "outputs": [],
   "source": [
    "from sklearn.metrics import mean_squared_error,mean_absolute_error,r2_score"
   ]
  },
  {
   "cell_type": "code",
   "execution_count": 69,
   "metadata": {},
   "outputs": [],
   "source": [
    "from sklearn import datasets, linear_model\n",
    "from sklearn.model_selection import cross_val_score"
   ]
  },
  {
   "cell_type": "code",
   "execution_count": 70,
   "metadata": {},
   "outputs": [
    {
     "name": "stdout",
     "output_type": "stream",
     "text": [
      "R2 Score: 62.10067732326681\n",
      "Cross Val Score: 24.609267666010112\n"
     ]
    }
   ],
   "source": [
    "rf= RandomForestRegressor(criterion=\"mse\",max_features=\"auto\")\n",
    "rf.fit(xtrain, ytrain)\n",
    "rf.score(xtrain, ytrain)\n",
    "pred_decision = rf.predict(xtest)\n",
    "\n",
    "rfs = r2_score(ytest,pred_decision)\n",
    "print('R2 Score:',rfs*100)\n",
    "\n",
    "rfscore = cross_val_score(rf,features,target,cv=5)\n",
    "rfc = rfscore.mean()\n",
    "print('Cross Val Score:',rfc*100)"
   ]
  },
  {
   "cell_type": "code",
   "execution_count": 71,
   "metadata": {},
   "outputs": [
    {
     "name": "stdout",
     "output_type": "stream",
     "text": [
      "Mean absolute error:: 660.9435903013109\n",
      "Mean squared error:: 876006.3991129005\n",
      "Root mean square:: 935.9521350544057\n"
     ]
    }
   ],
   "source": [
    "print('Mean absolute error::',mean_absolute_error(ytest,pred)) \n",
    "print('Mean squared error::',mean_squared_error(ytest,pred))\n",
    "print('Root mean square::',np.sqrt(mean_squared_error(ytest,pred)))"
   ]
  },
  {
   "cell_type": "markdown",
   "metadata": {},
   "source": [
    "# Loading Model"
   ]
  },
  {
   "cell_type": "code",
   "execution_count": 73,
   "metadata": {},
   "outputs": [],
   "source": [
    "import pickle\n",
    "filename = 'Flight.pkl'\n",
    "pickle.dump(rf, open(filename, 'wb'))"
   ]
  },
  {
   "cell_type": "code",
   "execution_count": 75,
   "metadata": {},
   "outputs": [
    {
     "name": "stdout",
     "output_type": "stream",
     "text": [
      "0.6210067732326681\n"
     ]
    }
   ],
   "source": [
    "loaded_model = pickle.load(open('Flight.pkl', 'rb'))\n",
    "result = loaded_model.score(xtest, ytest)\n",
    "print(result)"
   ]
  },
  {
   "cell_type": "markdown",
   "metadata": {},
   "source": [
    "# Conclusion"
   ]
  },
  {
   "cell_type": "code",
   "execution_count": 76,
   "metadata": {},
   "outputs": [],
   "source": [
    "conclusion=pd.DataFrame([loaded_model.predict(xtest)[:],pred_decision[:]],index=[\"Predicted\",\"Orginal\"])"
   ]
  },
  {
   "cell_type": "code",
   "execution_count": 77,
   "metadata": {},
   "outputs": [
    {
     "data": {
      "text/html": [
       "<div>\n",
       "<style scoped>\n",
       "    .dataframe tbody tr th:only-of-type {\n",
       "        vertical-align: middle;\n",
       "    }\n",
       "\n",
       "    .dataframe tbody tr th {\n",
       "        vertical-align: top;\n",
       "    }\n",
       "\n",
       "    .dataframe thead th {\n",
       "        text-align: right;\n",
       "    }\n",
       "</style>\n",
       "<table border=\"1\" class=\"dataframe\">\n",
       "  <thead>\n",
       "    <tr style=\"text-align: right;\">\n",
       "      <th></th>\n",
       "      <th>0</th>\n",
       "      <th>1</th>\n",
       "      <th>2</th>\n",
       "      <th>3</th>\n",
       "      <th>4</th>\n",
       "      <th>5</th>\n",
       "      <th>6</th>\n",
       "      <th>7</th>\n",
       "      <th>8</th>\n",
       "      <th>9</th>\n",
       "      <th>...</th>\n",
       "      <th>444</th>\n",
       "      <th>445</th>\n",
       "      <th>446</th>\n",
       "      <th>447</th>\n",
       "      <th>448</th>\n",
       "      <th>449</th>\n",
       "      <th>450</th>\n",
       "      <th>451</th>\n",
       "      <th>452</th>\n",
       "      <th>453</th>\n",
       "    </tr>\n",
       "  </thead>\n",
       "  <tbody>\n",
       "    <tr>\n",
       "      <th>Predicted</th>\n",
       "      <td>7447.7485</td>\n",
       "      <td>8027.25</td>\n",
       "      <td>7469.26</td>\n",
       "      <td>7435.62</td>\n",
       "      <td>7467.018</td>\n",
       "      <td>7470.5975</td>\n",
       "      <td>5999.66</td>\n",
       "      <td>5102.0</td>\n",
       "      <td>8043.0</td>\n",
       "      <td>5102.95</td>\n",
       "      <td>...</td>\n",
       "      <td>7447.305</td>\n",
       "      <td>7482.32</td>\n",
       "      <td>5945.96</td>\n",
       "      <td>5328.8</td>\n",
       "      <td>7468.056</td>\n",
       "      <td>5102.0</td>\n",
       "      <td>7424.98</td>\n",
       "      <td>7424.0</td>\n",
       "      <td>5102.0</td>\n",
       "      <td>5942.99</td>\n",
       "    </tr>\n",
       "    <tr>\n",
       "      <th>Orginal</th>\n",
       "      <td>7447.7485</td>\n",
       "      <td>8027.25</td>\n",
       "      <td>7469.26</td>\n",
       "      <td>7435.62</td>\n",
       "      <td>7467.018</td>\n",
       "      <td>7470.5975</td>\n",
       "      <td>5999.66</td>\n",
       "      <td>5102.0</td>\n",
       "      <td>8043.0</td>\n",
       "      <td>5102.95</td>\n",
       "      <td>...</td>\n",
       "      <td>7447.305</td>\n",
       "      <td>7482.32</td>\n",
       "      <td>5945.96</td>\n",
       "      <td>5328.8</td>\n",
       "      <td>7468.056</td>\n",
       "      <td>5102.0</td>\n",
       "      <td>7424.98</td>\n",
       "      <td>7424.0</td>\n",
       "      <td>5102.0</td>\n",
       "      <td>5942.99</td>\n",
       "    </tr>\n",
       "  </tbody>\n",
       "</table>\n",
       "<p>2 rows × 454 columns</p>\n",
       "</div>"
      ],
      "text/plain": [
       "                 0        1        2        3         4          5        6    \\\n",
       "Predicted  7447.7485  8027.25  7469.26  7435.62  7467.018  7470.5975  5999.66   \n",
       "Orginal    7447.7485  8027.25  7469.26  7435.62  7467.018  7470.5975  5999.66   \n",
       "\n",
       "              7       8        9    ...       444      445      446     447  \\\n",
       "Predicted  5102.0  8043.0  5102.95  ...  7447.305  7482.32  5945.96  5328.8   \n",
       "Orginal    5102.0  8043.0  5102.95  ...  7447.305  7482.32  5945.96  5328.8   \n",
       "\n",
       "                448     449      450     451     452      453  \n",
       "Predicted  7468.056  5102.0  7424.98  7424.0  5102.0  5942.99  \n",
       "Orginal    7468.056  5102.0  7424.98  7424.0  5102.0  5942.99  \n",
       "\n",
       "[2 rows x 454 columns]"
      ]
     },
     "execution_count": 77,
     "metadata": {},
     "output_type": "execute_result"
    }
   ],
   "source": [
    "conclusion"
   ]
  },
  {
   "cell_type": "markdown",
   "metadata": {},
   "source": [
    "# Due to ununiform price range our result is only 62.10%"
   ]
  },
  {
   "cell_type": "code",
   "execution_count": null,
   "metadata": {},
   "outputs": [],
   "source": []
  }
 ],
 "metadata": {
  "kernelspec": {
   "display_name": "Python 3",
   "language": "python",
   "name": "python3"
  },
  "language_info": {
   "codemirror_mode": {
    "name": "ipython",
    "version": 3
   },
   "file_extension": ".py",
   "mimetype": "text/x-python",
   "name": "python",
   "nbconvert_exporter": "python",
   "pygments_lexer": "ipython3",
   "version": "3.8.5"
  }
 },
 "nbformat": 4,
 "nbformat_minor": 5
}
